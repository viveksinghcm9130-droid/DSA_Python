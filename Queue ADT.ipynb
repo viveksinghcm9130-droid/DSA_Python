{
 "cells": [
  {
   "cell_type": "markdown",
   "id": "052b1837-05dc-43c0-b12b-a2d2ea6de40a",
   "metadata": {},
   "source": [
    "# Queue ADT using List"
   ]
  },
  {
   "cell_type": "code",
   "execution_count": 13,
   "id": "194fd622-554b-487f-bf15-9972df2ec755",
   "metadata": {},
   "outputs": [],
   "source": [
    "class Queue:\n",
    "    def __init__(self):\n",
    "        self._data=[]\n",
    "    def __len__(self):\n",
    "        return len(self._data)\n",
    "    def isempty(self):\n",
    "        return len(self._data)==0\n",
    "    def Queue(self,ele):\n",
    "        self._data.append(ele)\n",
    "    def dequeue(self):\n",
    "        if self.isempty():\n",
    "            print(\"Queue is empty\")\n",
    "            return -1\n",
    "        return self._data.pop(0)\n",
    "    def first(self):\n",
    "        if self.isempty():\n",
    "            print(\"Queue is empty\")\n",
    "            return -1\n",
    "        return self._data[0]\n",
    "    def __str__(self):\n",
    "        return str(self._data)"
   ]
  },
  {
   "cell_type": "code",
   "execution_count": 14,
   "id": "fa8830fd-422e-4b77-a467-bbf329ea29df",
   "metadata": {},
   "outputs": [
    {
     "name": "stdout",
     "output_type": "stream",
     "text": [
      "[2, 4, 6, 8, 10, 12]\n",
      "2\n",
      "[4, 6, 8, 10, 12]\n"
     ]
    }
   ],
   "source": [
    "c1=Queue()\n",
    "c1.Queue(2)\n",
    "c1.Queue(4)\n",
    "c1.Queue(6)\n",
    "c1.Queue(8)\n",
    "c1.Queue(10)\n",
    "c1.Queue(12)\n",
    "print(c1)\n",
    "print(c1.first())\n",
    "c1.dequeue()\n",
    "print(c1)\n"
   ]
  },
  {
   "cell_type": "code",
   "execution_count": null,
   "id": "f2721a0a-7404-4754-a79f-04302c4e0ed9",
   "metadata": {},
   "outputs": [],
   "source": []
  },
  {
   "cell_type": "code",
   "execution_count": 1,
   "id": "c0d01454-491b-43f8-a85a-c970b63773e2",
   "metadata": {},
   "outputs": [],
   "source": [
    "class _Node:\n",
    "    __slots__=\"_element\",\"_next\"\n",
    "    def __init__(self,element,next):\n",
    "        self._element=element\n",
    "        self._next=next\n",
    "class Queue_linked_list:\n",
    "    def __init__(self):\n",
    "        self._front=None\n",
    "        self._rear=None\n",
    "        self._size=0\n",
    "    def __len__(self):\n",
    "        return self._size\n",
    "    def isempty(self):\n",
    "        return self._size==0\n",
    "    def queue(self,ele):\n",
    "        newest=_Node(ele,None)\n",
    "        if self.isempty():\n",
    "            self._front=newest\n",
    "            self._rear=newest\n",
    "        self._rear._next=newest\n",
    "        self._rear=newest\n",
    "        self._size+=1\n",
    "    def dequeue(self):\n",
    "        if self.isempty():\n",
    "           print(\"Queue is empty\")\n",
    "        e=self._front._element\n",
    "        self._front=self._front._next\n",
    "        if self.isempty():\n",
    "            self._rear=None\n",
    "        return e\n",
    "    def first(self):\n",
    "        print(self._front)\n",
    "    def display(self):\n",
    "        p=self._front\n",
    "        while p:\n",
    "            print(f\"{p._element}, \",end=\"\" )\n",
    "\n",
    "            p=p._next\n",
    "        print()\n",
    "        return None\n",
    "        \n",
    "        \n",
    "        \n",
    "        "
   ]
  },
  {
   "cell_type": "code",
   "execution_count": 2,
   "id": "e14c5331-781e-44ca-9b97-ee3eb4277705",
   "metadata": {},
   "outputs": [
    {
     "name": "stdout",
     "output_type": "stream",
     "text": [
      "20, 40, 0, 100, \n",
      "40, 0, 100, \n"
     ]
    }
   ],
   "source": [
    "Q1=Queue_linked_list()\n",
    "Q1.queue(10)\n",
    "Q1.queue(20)\n",
    "Q1.queue(40)\n",
    "Q1.queue(0)\n",
    "Q1.queue(100)\n",
    "Q1.dequeue()\n",
    "Q1.display()\n",
    "Q1.dequeue()\n",
    "Q1.display()\n"
   ]
  },
  {
   "cell_type": "code",
   "execution_count": null,
   "id": "d6e84691-cef5-433b-8c72-99444259cf84",
   "metadata": {},
   "outputs": [],
   "source": []
  }
 ],
 "metadata": {
  "kernelspec": {
   "display_name": "Python 3 (ipykernel)",
   "language": "python",
   "name": "python3"
  },
  "language_info": {
   "codemirror_mode": {
    "name": "ipython",
    "version": 3
   },
   "file_extension": ".py",
   "mimetype": "text/x-python",
   "name": "python",
   "nbconvert_exporter": "python",
   "pygments_lexer": "ipython3",
   "version": "3.9.6"
  }
 },
 "nbformat": 4,
 "nbformat_minor": 5
}
