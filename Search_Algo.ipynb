{
 "cells": [
  {
   "cell_type": "markdown",
   "id": "0bdaf52c-7731-4f5e-9c1f-ed5f7ecd3563",
   "metadata": {},
   "source": [
    "# Binary_search( Recursion )"
   ]
  },
  {
   "cell_type": "code",
   "execution_count": 15,
   "id": "dbb7159e-7ca9-4b5f-b7cf-9ac668d7dfd8",
   "metadata": {},
   "outputs": [],
   "source": [
    "def Binary_search(A,L,R,KEY):\n",
    "    if L>R:\n",
    "        print(f\"No match of {KEY}\")\n",
    "        return -1\n",
    "    else:\n",
    "        mid=(L+R)//2\n",
    "        if KEY==A[mid]:\n",
    "            print(f\"{KEY} matched\")\n",
    "            return 0\n",
    "        elif (A[mid]> KEY):\n",
    "            Binary_search(A,L,mid-1,KEY)\n",
    "        else:\n",
    "            Binary_search(A,mid+1,R,KEY)\n",
    "    "
   ]
  },
  {
   "cell_type": "code",
   "execution_count": 16,
   "id": "484af7d8-05d7-4ba4-9c54-dc2743dbe1bb",
   "metadata": {},
   "outputs": [
    {
     "name": "stdin",
     "output_type": "stream",
     "text": [
      "Please enter to be search 54\n"
     ]
    },
    {
     "name": "stdout",
     "output_type": "stream",
     "text": [
      "54 matched\n"
     ]
    }
   ],
   "source": [
    "A=[12,3,5,5,7,3,1,54,9,0,5,6,87,3,4,5,8]\n",
    "A.sort()\n",
    "KEY=int(input(\"Please enter to be search\"))\n",
    "Binary_search(A,0,len(A)-1,KEY)"
   ]
  }
 ],
 "metadata": {
  "kernelspec": {
   "display_name": "Python 3 (ipykernel)",
   "language": "python",
   "name": "python3"
  },
  "language_info": {
   "codemirror_mode": {
    "name": "ipython",
    "version": 3
   },
   "file_extension": ".py",
   "mimetype": "text/x-python",
   "name": "python",
   "nbconvert_exporter": "python",
   "pygments_lexer": "ipython3",
   "version": "3.9.6"
  }
 },
 "nbformat": 4,
 "nbformat_minor": 5
}
