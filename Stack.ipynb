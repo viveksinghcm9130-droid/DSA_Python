{
 "cells": [
  {
   "cell_type": "markdown",
   "id": "029210ae-f33e-4787-a49d-d2d09140c508",
   "metadata": {},
   "source": [
    "# Stack (ADT) Using list"
   ]
  },
  {
   "cell_type": "code",
   "execution_count": 3,
   "id": "ee1d09ee-4f48-4564-a198-bff1c4da5371",
   "metadata": {},
   "outputs": [],
   "source": [
    "class stack:\n",
    "    def __init__(self):\n",
    "        self._data=[]\n",
    "    def __len__(self):\n",
    "        return len(self._data)\n",
    "    def isempty(self):\n",
    "        return len(self._data)==0\n",
    "    def push(self,ele):\n",
    "        self._data.append(ele)\n",
    "    def pop(self):\n",
    "        if self.isempty():\n",
    "            print(\"stack is empty\")\n",
    "            return -1\n",
    "        \n",
    "        return  self._data.pop()\n",
    "    def top(self):\n",
    "        if self.isempty():\n",
    "            print(\"stack is empty\")\n",
    "            return -1\n",
    "        return self._data[-1]\n",
    "    def __str__(self):\n",
    "        return str(self._data)"
   ]
  },
  {
   "cell_type": "code",
   "execution_count": 6,
   "id": "54f022d0-102e-42b9-8c77-4fe066446a1b",
   "metadata": {},
   "outputs": [
    {
     "name": "stdout",
     "output_type": "stream",
     "text": [
      "[2, 6, 8, 16, 'viveksingh', 90]\n",
      "90\n",
      "[2, 6, 8, 16, 'viveksingh']\n",
      "viveksingh\n",
      "[2, 6, 8, 16, 'viveksingh']\n"
     ]
    }
   ],
   "source": [
    "s1=stack()\n",
    "s1.push(2)\n",
    "s1.push(6)\n",
    "s1.push(8)\n",
    "s1.push(16)\n",
    "s1.push(\"viveksingh\")\n",
    "s1.push(90)\n",
    "print(s1)\n",
    "print(s1.pop())\n",
    "print(s1._data)\n",
    "# print(s1.pop())\n",
    "print(s1.top())\n",
    "print(s1._data)"
   ]
  },
  {
   "cell_type": "markdown",
   "id": "d4e49854-832a-421d-b835-b559763d8322",
   "metadata": {},
   "source": [
    "# Stack (ADT) using linked list"
   ]
  },
  {
   "cell_type": "code",
   "execution_count": 18,
   "id": "ed5300d1-06fd-41fb-b113-b324ff6101e9",
   "metadata": {},
   "outputs": [],
   "source": [
    "class _Node:\n",
    "    __slots__=\"_element\",\"_next\"\n",
    "    def __init__(self,element,next):\n",
    "        self._element=element\n",
    "        self._next=next\n",
    "class Stack_linked_list:\n",
    "    def __init__(self):\n",
    "        self._top=None\n",
    "        self._bottom=None\n",
    "        self._size=0\n",
    "    def __len__(self):\n",
    "        return self._size\n",
    "    def isempty(self):\n",
    "        return self._size==0\n",
    "    def push(self,ele):\n",
    "        newest=_Node(ele,None)\n",
    "        if self.isempty():\n",
    "            self._top=newest\n",
    "            self._bottom=newest\n",
    "        self._bottom._next=newest\n",
    "        self._bottom=newest\n",
    "        self._size+=1\n",
    "    def pop(self):\n",
    "        i=1\n",
    "        p=self._top\n",
    "        if self.isempty():\n",
    "            print(\"stack is empty\")\n",
    "        while i< len(self)-1:\n",
    "            p=p._next\n",
    "            i+=1\n",
    "        e=p._next._element\n",
    "        print()\n",
    "        print(e)\n",
    "        p._next=None\n",
    "        self._bottom=p\n",
    "        self._size-=1\n",
    "    def top(self):\n",
    "        i=1\n",
    "        p=self._top\n",
    "        if self.isempty():\n",
    "            print(\"stack is empty\")\n",
    "        print(self._bottom)\n",
    "    def Display(self):\n",
    "        p=self._top\n",
    "        while p:\n",
    "            print(f\"{p._element}, \",end=\"\")\n",
    "            p=p._next\n",
    "        return None\n",
    "        \n",
    "        \n",
    "        \n",
    "            \n",
    "    "
   ]
  },
  {
   "cell_type": "code",
   "execution_count": 19,
   "id": "e8c13762-4e9a-40ac-a074-48f6f1b5526d",
   "metadata": {},
   "outputs": [
    {
     "name": "stdout",
     "output_type": "stream",
     "text": [
      "3, 4, 9, \n",
      "9\n"
     ]
    }
   ],
   "source": [
    "s1=Stack_linked_list()\n",
    "s1.push(3)\n",
    "s1.push(4)\n",
    "s1.push(9)\n",
    "s1.Display()\n",
    "s1.pop()"
   ]
  },
  {
   "cell_type": "code",
   "execution_count": null,
   "id": "a0fa51a8-d11b-46ab-82f9-b1fdb029d5b7",
   "metadata": {},
   "outputs": [],
   "source": []
  }
 ],
 "metadata": {
  "kernelspec": {
   "display_name": "Python 3 (ipykernel)",
   "language": "python",
   "name": "python3"
  },
  "language_info": {
   "codemirror_mode": {
    "name": "ipython",
    "version": 3
   },
   "file_extension": ".py",
   "mimetype": "text/x-python",
   "name": "python",
   "nbconvert_exporter": "python",
   "pygments_lexer": "ipython3",
   "version": "3.9.6"
  }
 },
 "nbformat": 4,
 "nbformat_minor": 5
}
