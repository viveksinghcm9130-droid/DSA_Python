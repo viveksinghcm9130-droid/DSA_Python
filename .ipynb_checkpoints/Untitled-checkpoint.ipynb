{
 "cells": [
  {
   "cell_type": "markdown",
   "id": "46024375-e5e2-4140-8bf0-407b9e01a758",
   "metadata": {},
   "source": [
    "# Sorting_Algo"
   ]
  },
  {
   "cell_type": "markdown",
   "id": "9ebd0261-da53-4c72-8106-a54669812d92",
   "metadata": {},
   "source": [
    "# 1.Selection_sort"
   ]
  },
  {
   "cell_type": "code",
   "execution_count": 17,
   "id": "3ee30e06-ea4c-48fd-81fc-73ff880b6807",
   "metadata": {},
   "outputs": [],
   "source": [
    "def selection_sort(A):\n",
    "    n=len(A)\n",
    "    for i in range(n-1):\n",
    "        position=i\n",
    "        for j in range(i+1,n):\n",
    "            if A[position]>A[j]:\n",
    "                position=j\n",
    "        temp=A[i]\n",
    "        A[i]=A[position]\n",
    "        A[position]=temp\n",
    "    return A\n",
    "        \n",
    "        \n",
    "                "
   ]
  },
  {
   "cell_type": "code",
   "execution_count": 4,
   "id": "3146fa16-90d2-463b-84b9-fda3ecb6aa14",
   "metadata": {},
   "outputs": [
    {
     "name": "stdout",
     "output_type": "stream",
     "text": [
      "[0, 1, 3, 3, 3, 4, 5, 5, 5, 5, 6, 7, 8, 9, 12, 54, 87]\n"
     ]
    }
   ],
   "source": [
    "A=[12,3,5,5,7,3,1,54,9,0,5,6,87,3,4,5,8]\n",
    "print(selection_sort(A))"
   ]
  },
  {
   "cell_type": "markdown",
   "id": "d0c1e901-a70e-497e-8b66-def460352e10",
   "metadata": {},
   "source": [
    "# 2.Insertion_sort"
   ]
  },
  {
   "cell_type": "code",
   "execution_count": 15,
   "id": "4dfdc572-f703-4f27-88ba-0f5dbbb63280",
   "metadata": {},
   "outputs": [],
   "source": [
    "def Insertion_sort(A):\n",
    "    n=len(A)\n",
    "    for i in range(1,n):\n",
    "        cvalue=A[i]\n",
    "        position=i\n",
    "        while position>0 and cvalue<A[position-1]:\n",
    "            A[position]=A[position-1]\n",
    "            position-=1\n",
    "        A[position]=cvalue\n",
    "    return A\n",
    "        \n",
    "\n",
    "        "
   ]
  },
  {
   "cell_type": "code",
   "execution_count": 16,
   "id": "fa85ad34-c50e-498a-870f-6903e635fd1e",
   "metadata": {},
   "outputs": [
    {
     "name": "stdout",
     "output_type": "stream",
     "text": [
      "[1, 3, 4, 6, 6, 7]\n"
     ]
    }
   ],
   "source": [
    "A=[7,6,4,3,6,1]\n",
    "print(Insertion_sort(A))"
   ]
  },
  {
   "cell_type": "markdown",
   "id": "7ef62ac2-0633-474b-ae9c-27b14943bf98",
   "metadata": {},
   "source": [
    "# 3. Bubble_sort"
   ]
  },
  {
   "cell_type": "code",
   "execution_count": 18,
   "id": "c992ad3a-e98d-4a95-8a7e-7624ddd3e267",
   "metadata": {},
   "outputs": [],
   "source": [
    "def Bubble_sort(A):\n",
    "    n=len(A)\n",
    "    for i in range(n-1,-1,-1):\n",
    "        for j in range(i):\n",
    "            if A[j]>A[j+1]:\n",
    "                temp=A[j]\n",
    "                A[j]=A[j+1]\n",
    "                A[j+1]=temp\n",
    "    return A\n",
    "            \n",
    "        "
   ]
  },
  {
   "cell_type": "code",
   "execution_count": 19,
   "id": "a1a584e2-2dff-4f1d-99af-64eada49618f",
   "metadata": {},
   "outputs": [
    {
     "name": "stdout",
     "output_type": "stream",
     "text": [
      "[1, 3, 4, 6, 6, 7]\n"
     ]
    }
   ],
   "source": [
    "A=[7,6,4,3,6,1]\n",
    "print(Bubble_sort(A))"
   ]
  },
  {
   "cell_type": "markdown",
   "id": "573049c0-7e31-4b31-8897-4b9caae9fba6",
   "metadata": {},
   "source": [
    "# 4.Shell_sort"
   ]
  },
  {
   "cell_type": "code",
   "execution_count": 26,
   "id": "7a7ee558-4a3f-4b6b-bd1e-9860ac429eae",
   "metadata": {},
   "outputs": [],
   "source": [
    "def shell_sort(A):\n",
    "    n=len(A)\n",
    "    gap=gap//2\n",
    "    while gap>0:\n",
    "        i=gap\n",
    "        temp=A[i]\n",
    "        while i<n:\n",
    "            j=i-gap\n",
    "            while j>=0 and A[j]>temp:\n",
    "                A[j]=A[j+gap]\n",
    "                j=j-gap\n",
    "            A[j+gap]=temp\n",
    "            i+=1\n",
    "        gap=gap//2\n",
    "    return A"
   ]
  },
  {
   "cell_type": "code",
   "execution_count": 28,
   "id": "4f0b93da-0469-473d-b57a-a8def206fb52",
   "metadata": {},
   "outputs": [
    {
     "name": "stdout",
     "output_type": "stream",
     "text": [
      "[0, 1, 1, 2, 3, 3, 4, 6, 6, 7, 12, 333, 8281]\n"
     ]
    }
   ],
   "source": [
    "A=[7,6,4,3,6,1,12,3,1,2,333,8281,00]\n",
    "print(Shell_sort(A))"
   ]
  },
  {
   "cell_type": "code",
   "execution_count": null,
   "id": "efb9556f-f4a5-444f-abc9-cac5c787be53",
   "metadata": {},
   "outputs": [],
   "source": []
  }
 ],
 "metadata": {
  "kernelspec": {
   "display_name": "Python 3 (ipykernel)",
   "language": "python",
   "name": "python3"
  },
  "language_info": {
   "codemirror_mode": {
    "name": "ipython",
    "version": 3
   },
   "file_extension": ".py",
   "mimetype": "text/x-python",
   "name": "python",
   "nbconvert_exporter": "python",
   "pygments_lexer": "ipython3",
   "version": "3.9.6"
  }
 },
 "nbformat": 4,
 "nbformat_minor": 5
}
