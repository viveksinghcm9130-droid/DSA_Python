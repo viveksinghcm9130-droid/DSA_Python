{
 "cells": [
  {
   "cell_type": "markdown",
   "id": "a3fc8d8b-f0f2-422a-82b7-adb001bf8e8f",
   "metadata": {},
   "source": [
    "# Binary search"
   ]
  },
  {
   "cell_type": "code",
   "execution_count": 11,
   "id": "01e5b5dc-72f5-470a-aaac-f4f6d005f29d",
   "metadata": {},
   "outputs": [],
   "source": [
    "def function1(A,L,R,KEY):\n",
    "    if L>R:\n",
    "        print(f\"No match of {KEY}\")\n",
    "        return -1\n",
    "    else:\n",
    "        mid=(L+R)//2\n",
    "        if KEY==A[mid]:\n",
    "            print(f\"{KEY} matched\")\n",
    "            return 0\n",
    "        elif (A[mid]> KEY):\n",
    "            function1(A,L,mid-1,KEY)\n",
    "        else:\n",
    "            function1(A,mid+1,R,KEY)\n",
    "    "
   ]
  },
  {
   "cell_type": "raw",
   "id": "50ba9aa8-3da7-4406-a913-35bdc967d32a",
   "metadata": {},
   "source": []
  },
  {
   "cell_type": "code",
   "execution_count": 13,
   "id": "b452003f-a0b1-465d-aa29-9dde24f6eaf4",
   "metadata": {},
   "outputs": [
    {
     "name": "stdin",
     "output_type": "stream",
     "text": [
      "Please enter to be search 6\n"
     ]
    },
    {
     "name": "stdout",
     "output_type": "stream",
     "text": [
      "6 matched\n"
     ]
    }
   ],
   "source": [
    "A=[12,3,5,5,7,3,1,54,9,0,5,6,87,3,4,5,8]\n",
    "A.sort()\n",
    "KEY=int(input(\"Please enter to be search\"))\n",
    "function1(A,0,len(A)-1,KEY)"
   ]
  },
  {
   "cell_type": "markdown",
   "id": "c2049159-01ff-4bf3-8449-a16f50ab1676",
   "metadata": {},
   "source": [
    "# Selection_sort"
   ]
  },
  {
   "cell_type": "code",
   "execution_count": 14,
   "id": "5d7c6221-3f61-422f-b4cd-aa2080ecf657",
   "metadata": {},
   "outputs": [],
   "source": [
    "def selection_sort(A):\n",
    "    counter=len(A)-1\n",
    "    for i in range(0,counter):\n",
    "        position=i\n",
    "        for j in range(i+1,counter+1):\n",
    "            if A[position]>A[j]:\n",
    "                position=j\n",
    "        temp=A[i]\n",
    "        A[i]=A[position]\n",
    "        A[position]=temp\n",
    "    return A"
   ]
  },
  {
   "cell_type": "code",
   "execution_count": 15,
   "id": "93414532-c13d-49c0-a641-e0b72585613d",
   "metadata": {},
   "outputs": [
    {
     "name": "stdout",
     "output_type": "stream",
     "text": [
      "[0, 1, 3, 3, 3, 4, 5, 5, 5, 5, 6, 7, 8, 9, 12, 54, 87]\n"
     ]
    }
   ],
   "source": [
    "A=[12,3,5,5,7,3,1,54,9,0,5,6,87,3,4,5,8]\n",
    "print(selection_sort(A))"
   ]
  },
  {
   "cell_type": "markdown",
   "id": "ae071a4d-9bef-4dd1-96aa-ae3ddad3c86c",
   "metadata": {},
   "source": [
    "# Insertion sort"
   ]
  },
  {
   "cell_type": "code",
   "execution_count": 1,
   "id": "5b6ce308-c460-4b1a-ae5c-bfacec8509ba",
   "metadata": {},
   "outputs": [],
   "source": [
    "def insertion_sort(A):\n",
    "    n=len(A)\n",
    "    \n",
    "    for i in range(1,n):\n",
    "        cvalue=A[i]\n",
    "        \n",
    "        position=i\n",
    "        while position>0 and A[position-1]>cvalue:\n",
    "            A[position]=A[position-1]\n",
    "            position=position -1\n",
    "        A[position]=cvalue\n",
    "    return A"
   ]
  },
  {
   "cell_type": "code",
   "execution_count": 2,
   "id": "69df964e-1f85-454e-b127-a7b8cb8b5a72",
   "metadata": {},
   "outputs": [
    {
     "name": "stdout",
     "output_type": "stream",
     "text": [
      "[1, 3, 4, 6, 6, 7]\n"
     ]
    }
   ],
   "source": [
    "A=[7,6,4,3,6,1]\n",
    "print(insertion_sort(A))"
   ]
  },
  {
   "cell_type": "markdown",
   "id": "9b3e9522-02ed-42f8-ab21-a08dd02ed342",
   "metadata": {},
   "source": [
    "# Bubble_sort"
   ]
  },
  {
   "cell_type": "code",
   "execution_count": 18,
   "id": "f5ced847-d504-4c32-9b5f-605da3766cb6",
   "metadata": {},
   "outputs": [],
   "source": [
    "def Bubble_sort(A):\n",
    "    n=len(A)\n",
    "    for i in range(n-1,0,-1):\n",
    "        for j in range(i):\n",
    "            if A[j]>A[j+1]:\n",
    "                temp=A[j]\n",
    "                A[j]=A[j+1]\n",
    "                A[j+1]=temp\n",
    "    return A"
   ]
  },
  {
   "cell_type": "code",
   "execution_count": 19,
   "id": "2a33e078-1a85-4433-9dba-32c7ce2e27c9",
   "metadata": {},
   "outputs": [
    {
     "name": "stdout",
     "output_type": "stream",
     "text": [
      "[1, 3, 4, 6, 6, 7]\n"
     ]
    }
   ],
   "source": [
    "A=[7,6,4,3,6,1]\n",
    "print(Bubble_sort(A))"
   ]
  },
  {
   "cell_type": "markdown",
   "id": "e1482c10-1ed6-4695-8299-cf829062e1bb",
   "metadata": {},
   "source": [
    "# Binary_search_"
   ]
  },
  {
   "cell_type": "code",
   "execution_count": null,
   "id": "aca444ea-adfd-4677-a1c1-8289965dde1b",
   "metadata": {},
   "outputs": [],
   "source": []
  },
  {
   "cell_type": "code",
   "execution_count": 20,
   "id": "cfb1128b-f5bd-4cec-99a8-5d3c0375b3cd",
   "metadata": {},
   "outputs": [],
   "source": [
    "def Binary_search(A,L,R,KEY):\n",
    "    if L>R:\n",
    "     print(f\"No match{KEY}\")\n",
    "     return -1\n",
    "    MID=(L+R)//2\n",
    "    if A[KEY]==A[MID]:\n",
    "        print(f\" {KEY} found\")\n",
    "        return 0\n",
    "    elif A[KEY]>A[MID]:\n",
    "        Binary_search(A,MID+1,R,KEY)\n",
    "    else:\n",
    "        Binary_search(A,L,MID-1,KEY)\n",
    "    return -1\n",
    "        "
   ]
  },
  {
   "cell_type": "code",
   "execution_count": 22,
   "id": "d9e6b5fc-68ca-4732-8fe8-258d7800199e",
   "metadata": {},
   "outputs": [
    {
     "name": "stdin",
     "output_type": "stream",
     "text": [
      "Please enter to be search 7\n"
     ]
    },
    {
     "name": "stdout",
     "output_type": "stream",
     "text": [
      "7 matched\n"
     ]
    }
   ],
   "source": [
    "A=[12,3,5,5,7,3,1,54,9,0,5,6,87,3,4,5,8]\n",
    "A.sort()\n",
    "KEY=int(input(\"Please enter to be search\"))\n",
    "function1(A,0,len(A)-1,KEY)"
   ]
  },
  {
   "cell_type": "markdown",
   "id": "54240732-2730-4060-b806-5f5782e6404c",
   "metadata": {},
   "source": [
    "# Bubblue sort"
   ]
  },
  {
   "cell_type": "code",
   "execution_count": 23,
   "id": "f0820ad1-e970-4880-b9fb-d03e6fe75118",
   "metadata": {},
   "outputs": [],
   "source": [
    "def bubblue_sort(A):\n",
    "    n=len(A)\n",
    "    for i in range(n-1,-1,-1):\n",
    "        for j in range (i):\n",
    "            if A[j]>A[j+1]:\n",
    "                temp=A[j+1]\n",
    "                A[j+1]=A[j]\n",
    "                A[j]=temp\n",
    "    return A\n",
    "                \n",
    "            "
   ]
  },
  {
   "cell_type": "code",
   "execution_count": 24,
   "id": "0ff78fa0-f825-4f45-bb84-0fbd4eb7c8a8",
   "metadata": {},
   "outputs": [
    {
     "name": "stdout",
     "output_type": "stream",
     "text": [
      "[1, 3, 4, 6, 6, 7]\n"
     ]
    }
   ],
   "source": [
    "A=[7,6,4,3,6,1]\n",
    "print(bubblue_sort(A))"
   ]
  },
  {
   "cell_type": "markdown",
   "id": "99faf51e-4e83-49e8-9479-35354d9f7a83",
   "metadata": {},
   "source": [
    "# Insertion sort"
   ]
  },
  {
   "cell_type": "code",
   "execution_count": 25,
   "id": "a24087b9-2902-4683-ad70-e9f578bfcb83",
   "metadata": {},
   "outputs": [],
   "source": [
    "def Insertion_sort(A):\n",
    "    n=len(A)\n",
    "    for i in range(n):\n",
    "        position=i\n",
    "        for j in range (i,n):\n",
    "            if A[position]> A[j]:\n",
    "                position=j\n",
    "        temp=A[i]\n",
    "        A[i]=A[position]\n",
    "        A[position]=temp\n",
    "    return A\n",
    "                \n",
    "                \n",
    "                "
   ]
  },
  {
   "cell_type": "code",
   "execution_count": 26,
   "id": "73b844e3-5215-4f77-963d-619794eacff2",
   "metadata": {},
   "outputs": [
    {
     "name": "stdout",
     "output_type": "stream",
     "text": [
      "[1, 3, 4, 6, 6, 7]\n"
     ]
    }
   ],
   "source": [
    "A=[7,6,4,3,6,1]\n",
    "print(Insertion_sort(A))"
   ]
  },
  {
   "cell_type": "markdown",
   "id": "4bafb61d-0eaa-4e8e-bc72-1f1c53ee0d65",
   "metadata": {},
   "source": [
    "# Selection sort"
   ]
  },
  {
   "cell_type": "code",
   "execution_count": 27,
   "id": "3ceb42cf-f508-4560-bf5d-aae4980808ea",
   "metadata": {},
   "outputs": [],
   "source": [
    "def selection_sort(A):\n",
    "    n=len(A)\n",
    "    for i in range(1,n-1):\n",
    "        pivot=A[i]\n",
    "        position=i\n",
    "        while position>i and A[position-1]>pivot:\n",
    "            A[position]=A[position -1]\n",
    "            position-1\n",
    "        A[position]=cvalue\n",
    "    return A"
   ]
  },
  {
   "cell_type": "code",
   "execution_count": 28,
   "id": "894414ea-a947-44cf-978b-18b22b042495",
   "metadata": {},
   "outputs": [
    {
     "name": "stdout",
     "output_type": "stream",
     "text": [
      "[1, 3, 4, 6, 6, 7]\n"
     ]
    }
   ],
   "source": [
    "A=[7,6,4,3,6,1]\n",
    "print(insertion_sort(A))"
   ]
  },
  {
   "cell_type": "markdown",
   "id": "8e2a36a6-fb44-4a15-9e0d-48c3a6d9104d",
   "metadata": {},
   "source": [
    "# Selection_sort"
   ]
  },
  {
   "cell_type": "code",
   "execution_count": 29,
   "id": "3b642183-ca1c-4535-92d1-f4e0502076be",
   "metadata": {},
   "outputs": [],
   "source": [
    "def selection_sort(A):\n",
    "    n=len(A)\n",
    "    \n",
    "    for i in range(n-1):\n",
    "        postition=i\n",
    "        for j in range(i,n):\n",
    "            if A[postition]>A[j]:\n",
    "                postition=j\n",
    "        temp=A[postition]\n",
    "        A[postition]=A[i]\n",
    "        A[i]=temp\n",
    "    return A\n",
    "        "
   ]
  },
  {
   "cell_type": "code",
   "execution_count": 30,
   "id": "070a8a2f-bdf3-42b3-8635-53c681701f2d",
   "metadata": {},
   "outputs": [
    {
     "name": "stdout",
     "output_type": "stream",
     "text": [
      "[1, 3, 4, 6, 6, 7]\n"
     ]
    }
   ],
   "source": [
    "A=[7,6,4,3,6,1]\n",
    "print(selection_sort(A))"
   ]
  },
  {
   "cell_type": "markdown",
   "id": "5b68aa65-5b91-4595-9f25-2bdee171fad6",
   "metadata": {},
   "source": [
    "# insertition_sort"
   ]
  },
  {
   "cell_type": "code",
   "execution_count": 7,
   "id": "7f94074a-e5ff-430f-9378-26eac380b195",
   "metadata": {},
   "outputs": [],
   "source": [
    "def insertition_sort(A):\n",
    "    n=len(A)\n",
    "    for i in range(1,n):\n",
    "        cvalue=A[i]\n",
    "        position=i\n",
    "        while position>0 and cvalue<A[position-1]:\n",
    "            A[position]=A[position-1]\n",
    "            position-=1\n",
    "        A[position]=cvalue\n",
    "    return A\n",
    "        \n",
    "        \n",
    "    "
   ]
  },
  {
   "cell_type": "code",
   "execution_count": 8,
   "id": "1fa7e650-2e55-4341-917b-156b02785f94",
   "metadata": {},
   "outputs": [
    {
     "name": "stdout",
     "output_type": "stream",
     "text": [
      "[1, 3, 4, 6, 6, 7]\n"
     ]
    }
   ],
   "source": [
    "A=[7,6,4,3,6,1]\n",
    "print(insertition_sort(A))"
   ]
  },
  {
   "cell_type": "markdown",
   "id": "658541af-9645-4c6c-aa01-51ec1a20443f",
   "metadata": {},
   "source": [
    "# SELECTION_SORT"
   ]
  },
  {
   "cell_type": "code",
   "execution_count": 9,
   "id": "4292ca34-851b-4aad-a2e6-c0e3a7522403",
   "metadata": {},
   "outputs": [],
   "source": [
    "def selection_sort(A):\n",
    "    n=len(A)\n",
    "    for i in range(n-1):\n",
    "        pos=i\n",
    "        for j in range(i,n):\n",
    "            if A[pos]>A[j]:\n",
    "                pos=j\n",
    "        temp=A[pos]\n",
    "        A[pos]=A[i]\n",
    "        A[i]=temp\n",
    "    return A"
   ]
  },
  {
   "cell_type": "code",
   "execution_count": 10,
   "id": "9a7d694b-5804-4fd2-a746-e596ac2b870c",
   "metadata": {},
   "outputs": [
    {
     "name": "stdout",
     "output_type": "stream",
     "text": [
      "[1, 3, 4, 6, 6, 7]\n"
     ]
    }
   ],
   "source": [
    "A=[7,6,4,3,6,1]\n",
    "print(selection_sort(A))"
   ]
  },
  {
   "cell_type": "markdown",
   "id": "9fb1cd7d-377b-4869-950f-53eebe30b4a1",
   "metadata": {},
   "source": [
    "# Bubble_sort"
   ]
  },
  {
   "cell_type": "code",
   "execution_count": 19,
   "id": "cedab05a-6bf0-4ad8-bfdb-6d5445125aed",
   "metadata": {},
   "outputs": [],
   "source": [
    "def Bubble_sort(A):\n",
    "    n=len(A)\n",
    "    for i in range(n-1,-1,-1):\n",
    "        for j in range(i):\n",
    "            if A[j]>A[j+1]:\n",
    "                temp=A[j]\n",
    "                A[j]=A[j+1]\n",
    "                A[j+1]=temp\n",
    "    return A\n",
    "                "
   ]
  },
  {
   "cell_type": "code",
   "execution_count": 20,
   "id": "61b015bb-168e-413b-a68e-d25b34879cc0",
   "metadata": {},
   "outputs": [
    {
     "name": "stdout",
     "output_type": "stream",
     "text": [
      "[1, 3, 4, 6, 6, 7]\n"
     ]
    }
   ],
   "source": [
    "A=[7,6,4,3,6,1]\n",
    "print(Bubble_sort(A))"
   ]
  },
  {
   "cell_type": "code",
   "execution_count": 2,
   "id": "2f3e9ff3-6f75-481c-b690-36cf654bc0f7",
   "metadata": {},
   "outputs": [],
   "source": [
    "def insertition_sort(A):\n",
    "    n=len(A)\n",
    "    for i in range(n-1):\n",
    "        pos=i\n",
    "        for j in range(i,n):\n",
    "            if A[pos]>A[j]:\n",
    "                pos=j\n",
    "        temp=A[i]\n",
    "        A[i]=A[pos]\n",
    "        A[pos]=temp\n",
    "    return A\n",
    "        \n",
    "        \n",
    "                \n",
    "    "
   ]
  },
  {
   "cell_type": "code",
   "execution_count": 3,
   "id": "42193b98-d8e5-4b67-a236-14502ab9ff7a",
   "metadata": {},
   "outputs": [
    {
     "name": "stdout",
     "output_type": "stream",
     "text": [
      "[1, 3, 4, 6, 6, 7]\n"
     ]
    }
   ],
   "source": [
    "A=[7,6,4,3,6,1]\n",
    "print(insertition_sort(A))"
   ]
  },
  {
   "cell_type": "code",
   "execution_count": 11,
   "id": "44fb20a5-5503-4cdd-a2ea-b34e169e04c0",
   "metadata": {},
   "outputs": [],
   "source": [
    "def selection_sort(A):\n",
    "    n=len(A)\n",
    "    for i in range(1,n):\n",
    "        cvalue=A[i]\n",
    "        position=i\n",
    "        while position>0 and  cvalue<A[position-1]:\n",
    "            A[position]=A[position-1]\n",
    "            position-=1\n",
    "        A[position]=cvalue\n",
    "    return A\n",
    "            \n",
    "\n",
    "\n",
    "# def insertion_sort(A):\n",
    "#     n=len(A)\n",
    "#     for i in range(1,n):\n",
    "#         cvalue=A[i]\n",
    "        \n",
    "#         position=i\n",
    "#         while position>0 and A[position-1]>cvalue:\n",
    "#             A[position]=A[position-1]\n",
    "#             position=position -1\n",
    "#         A[position]=cvalue\n",
    "#     return A"
   ]
  },
  {
   "cell_type": "code",
   "execution_count": 12,
   "id": "e65aa2d4-4976-442c-97da-90f501b585f4",
   "metadata": {},
   "outputs": [
    {
     "name": "stdout",
     "output_type": "stream",
     "text": [
      "[1, 3, 4, 6, 6, 7]\n"
     ]
    }
   ],
   "source": [
    "A=[7,6,4,3,6,1]\n",
    "print(selection_sort(A))"
   ]
  },
  {
   "cell_type": "code",
   "execution_count": 19,
   "id": "0f0a8679-7c60-44ec-bd94-cb833530c89a",
   "metadata": {},
   "outputs": [],
   "source": [
    "def bubblue_sort(A):\n",
    "    n=len(A)\n",
    "    for i in range(n-1,-1,-1):\n",
    "        for j in range(i):\n",
    "            if A[j]<A[j+1]:\n",
    "                temp=A[j+1]\n",
    "                A[j+1]=A[j]\n",
    "                A[j]= temp\n",
    "    return A"
   ]
  },
  {
   "cell_type": "code",
   "execution_count": 20,
   "id": "3dc60dcd-5483-413e-a31c-562b41825a8c",
   "metadata": {},
   "outputs": [
    {
     "name": "stdout",
     "output_type": "stream",
     "text": [
      "[7, 6, 6, 4, 3, 1]\n"
     ]
    }
   ],
   "source": [
    "A=[7,6,4,3,6,1]\n",
    "print(bubblue_sort(A))"
   ]
  },
  {
   "cell_type": "markdown",
   "id": "fa9fce18-7509-4629-8126-d3d9cf81553b",
   "metadata": {},
   "source": [
    "# Shell_sort"
   ]
  },
  {
   "cell_type": "code",
   "execution_count": 44,
   "id": "8dd6f964-2fc3-496a-b1b8-9376173e0ffb",
   "metadata": {},
   "outputs": [],
   "source": [
    "def shell_sort(A):\n",
    "    n=len(A)\n",
    "    gap=n//2\n",
    "    while gap>0:\n",
    "        i= gap\n",
    "        while i<n:\n",
    "            \n",
    "            temp=A[i]\n",
    "            j=i-gap\n",
    "            while j>=0 and A[j]> temp:\n",
    "                A[j+gap]=A[j]\n",
    "                j=j-gap\n",
    "            A[j+gap]=temp\n",
    "            i=i+1\n",
    "        gap=gap//2\n",
    "    return A\n",
    "\n",
    "\n",
    "# def shellsort(A):\n",
    "#     n = len(A)\n",
    "#     gap = n//2\n",
    "#     while gap > 0:\n",
    "#         i = gap\n",
    "#         while i < n:\n",
    "#             temp = A[i]\n",
    "#             j = i - gap\n",
    "#             while j >= 0 and A[j] > temp:\n",
    "#                 A[j+gap] = A[j]\n",
    "#                 j = j - gap\n",
    "#             A[j+gap] = temp\n",
    "#             i = i + 1\n",
    "#         gap = gap // 2\n",
    "\n",
    "\n",
    "# A = [3, 5, 8, 9, 6, 2]\n",
    "# print('Original Array:',A)\n",
    "# shellsort(A)\n",
    "# print('Sorted Array:',A)\n",
    "\n",
    "\n",
    "# def shell_sort(A):\n",
    "#     n = len(A)\n",
    "#     gap = n // 2\n",
    "\n",
    "#     while gap > 0:\n",
    "#         for i in range(gap, n):\n",
    "#             temp = A[i]\n",
    "#             j = i\n",
    "#             # Shift earlier gap-sorted elements up until the correct location for temp is found\n",
    "#             while j >= gap and A[j - gap] > temp:\n",
    "#                 A[j] = A[j - gap]\n",
    "#                 j -= gap\n",
    "#             # Put temp in its correct position\n",
    "#             A[j] = temp\n",
    "#         gap //= 2\n",
    "\n",
    "#     return A\n",
    "\n",
    "        \n",
    "    "
   ]
  },
  {
   "cell_type": "code",
   "execution_count": 45,
   "id": "6a111e05-4cae-4ec8-b506-5c800ce09d9b",
   "metadata": {},
   "outputs": [
    {
     "name": "stdout",
     "output_type": "stream",
     "text": [
      "[1, 3, 4, 6, 6, 7]\n"
     ]
    }
   ],
   "source": [
    "A=[7,6,4,3,6,1]\n",
    "print(shell_sort(A))"
   ]
  },
  {
   "cell_type": "code",
   "execution_count": 52,
   "id": "370826f8-39a0-47be-87f9-59eb7f2c9860",
   "metadata": {},
   "outputs": [],
   "source": [
    "def shell_sort(A):\n",
    "    n=len(A)\n",
    "    gap=n//2\n",
    "    while gap>0:\n",
    "        i=gap\n",
    "        while i<n:\n",
    "            temp=A[i]\n",
    "            j=i-gap\n",
    "            while j>=0 and A[j]>temp:\n",
    "                A[j+gap]=A[j]\n",
    "                j=j-gap\n",
    "            A[j+gap]= temp\n",
    "            i=i+1\n",
    "            \n",
    "        gap=gap//2\n",
    "    return A"
   ]
  },
  {
   "cell_type": "code",
   "execution_count": 53,
   "id": "d84cff72-d9d5-4b3e-a63d-9e1b0d9ee2eb",
   "metadata": {},
   "outputs": [
    {
     "name": "stdout",
     "output_type": "stream",
     "text": [
      "[1, 3, 4, 6, 6, 7]\n"
     ]
    }
   ],
   "source": [
    "A=[7,6,4,3,6,1]\n",
    "print(shell_sort(A))"
   ]
  },
  {
   "cell_type": "markdown",
   "id": "55cd2b65-382e-42f8-8c5f-76e0aac4a3d3",
   "metadata": {},
   "source": [
    "# Merger_sort"
   ]
  },
  {
   "cell_type": "code",
   "execution_count": 83,
   "id": "6c176d0c-7e42-4f3e-9017-a32f5651f92e",
   "metadata": {},
   "outputs": [],
   "source": [
    "def Merger_sort(A,l,r):\n",
    "    if l<r:\n",
    "        m=(l+r)//2\n",
    "        Merger_sort(A,l,m)\n",
    "        Merger_sort(A,m+1,r)\n",
    "        merge(A,l,r,m)\n",
    "def merge(A,l,r,m):\n",
    "    L=l\n",
    "    R=m+1\n",
    "    K=l\n",
    "    B=[0]*(r+1)\n",
    "    while L<=m and R<=r:\n",
    "        if A[L]<A[R]:\n",
    "            B[K]=A[L]\n",
    "            L+=1\n",
    "            K+=1\n",
    "        else:\n",
    "            B[K]=A[R]\n",
    "            R+=1\n",
    "            K+=1\n",
    "    while L<=m:\n",
    "        B[K]=A[L]\n",
    "        L+=1\n",
    "        K+=1\n",
    "    while R<=r:\n",
    "            B[K]=A[R]\n",
    "            R+=1\n",
    "            K+=1\n",
    "\n",
    "    for i in range(l, r + 1):\n",
    "        A[i] = B[i]\n",
    "        \n",
    "#             def mergesort(A, left, right):\n",
    "#     if left < right:\n",
    "#         mid = (left + right) // 2\n",
    "#         mergesort(A, left, mid)\n",
    "#         mergesort(A, mid+1, right)\n",
    "#         merge(A, left, mid, right)\n",
    "\n",
    "# def merge(A, left, mid, right):\n",
    "#     i = left\n",
    "#     j = mid+1\n",
    "#     k = left\n",
    "#     B = [0] * (right+1)\n",
    "#     while i <= mid and j <= right:\n",
    "#         if A[i] < A[j]:\n",
    "#             B[k] = A[i]\n",
    "#             i = i + 1\n",
    "#         else:\n",
    "#             B[k] = A[j]\n",
    "#             j = j + 1\n",
    "#         k = k + 1\n",
    "\n",
    "#     while i <= mid:\n",
    "#         B[k] = A[i]\n",
    "#         i = i + 1\n",
    "#         k = k + 1\n",
    "\n",
    "#     while j <= right:\n",
    "#         B[k] = A[j]\n",
    "#         j = j + 1\n",
    "#         k = k + 1\n",
    "#     for x in range(left,right+1):\n",
    "#         A[x] = B[x]\n",
    "\n",
    "\n"
   ]
  },
  {
   "cell_type": "code",
   "execution_count": 84,
   "id": "577a0269-99ee-45ca-b660-a4913c41372b",
   "metadata": {},
   "outputs": [
    {
     "name": "stdout",
     "output_type": "stream",
     "text": [
      "[1, 3, 4, 6, 6, 7]\n"
     ]
    }
   ],
   "source": [
    "A=[7,6,4,3,6,1]\n",
    "Merger_sort(A,0,len(A)-1)\n",
    "print(A)"
   ]
  },
  {
   "cell_type": "code",
   "execution_count": 99,
   "id": "b73f7dee-2537-436c-9fbd-4a54a61e83c3",
   "metadata": {},
   "outputs": [],
   "source": [
    "def binary_search(A,k,l,r):\n",
    "    if l>r:\n",
    "        print(f\"element {k} not found\")\n",
    "        return -1\n",
    "    else:    \n",
    "        mid=(l+r)//2\n",
    "        if A[mid]==k:\n",
    "            print(f\"element {k} found\")\n",
    "            return 0\n",
    "        elif A[mid]>k:\n",
    "            binary_search(A,k,l,mid-1)\n",
    "        else:\n",
    "            binary_search(A,k,mid+1,r)\n",
    "    \n",
    "            \n",
    "    \n",
    "    "
   ]
  },
  {
   "cell_type": "code",
   "execution_count": 101,
   "id": "16a3b8a0-d0de-4798-81a6-fe1f88854f7c",
   "metadata": {},
   "outputs": [
    {
     "name": "stdout",
     "output_type": "stream",
     "text": [
      "element 9 found\n"
     ]
    }
   ],
   "source": [
    "A=[1,2,4,5,6,9,13,99]\n",
    "binary_search(A,9,0,len(A)-1)"
   ]
  },
  {
   "cell_type": "code",
   "execution_count": 102,
   "id": "eff1062d-8c46-4629-9787-83e37bd10693",
   "metadata": {},
   "outputs": [
    {
     "name": "stdout",
     "output_type": "stream",
     "text": [
      "[1, 3, 4, 6, 6, 7]\n"
     ]
    }
   ],
   "source": [
    "def merge_sort(A,l,r):\n",
    "\n",
    "    if l<r:\n",
    "        mid=(l+r)//2\n",
    "        merge_sort(A,l,mid)\n",
    "        merge_sort(A,mid+1,r)\n",
    "        merge(A,l,r,m)\n",
    "def merge(A,l,r,m):\n",
    "    L=l\n",
    "    R=m+1\n",
    "    B=[0]*(r+1)\n",
    "    K=l\n",
    "    while L<=m and R<=r:\n",
    "        if A[L]<A[R]:\n",
    "             B[K]=A[L]\n",
    "             L+=1\n",
    "        else:\n",
    "            B[K]=A[R]\n",
    "            R+=1\n",
    "        K+=1\n",
    "    while L<=m:\n",
    "            B[K]=A[L]\n",
    "            L+=1\n",
    "            K+=1\n",
    "    while R<=r:\n",
    "            B[K]=A[R]\n",
    "            R+=1\n",
    "            K+=1\n",
    "    for i in range (l,r+1):\n",
    "        A[i]=B[i]\n",
    "\n",
    "\n",
    "A=[7,6,4,3,6,1]\n",
    "Merger_sort(A,0,len(A)-1)\n",
    "print(A)        \n",
    "        \n",
    "        \n",
    "    \n",
    "    \n",
    "        \n",
    "    "
   ]
  },
  {
   "cell_type": "code",
   "execution_count": 14,
   "id": "2c795cc8-47d0-4267-8054-22b888234e49",
   "metadata": {},
   "outputs": [],
   "source": [
    "def Binary_search(A,key,L,R):\n",
    "    if L>R:\n",
    "        print(\"Element not found\")\n",
    "        return 0\n",
    "    else:\n",
    "        mid=(L+R)//2\n",
    "        if A[mid]==key:\n",
    "            print(f\"Element found {key}\")\n",
    "            return 0\n",
    "        elif A[mid] > key:\n",
    "            Binary_search(A,key,L,mid-1)\n",
    "        else:\n",
    "            Binary_search(A,key,mid+1,R)\n",
    "    return 0\n",
    "        \n",
    "        \n",
    "            \n",
    "    \n",
    "        "
   ]
  },
  {
   "cell_type": "code",
   "execution_count": 15,
   "id": "29fde9cb-9e8b-4ead-b5de-d66b60e9def4",
   "metadata": {},
   "outputs": [
    {
     "name": "stdin",
     "output_type": "stream",
     "text": [
      "Please enter to be search 8\n"
     ]
    },
    {
     "name": "stdout",
     "output_type": "stream",
     "text": [
      "Element found 8\n"
     ]
    },
    {
     "data": {
      "text/plain": [
       "0"
      ]
     },
     "execution_count": 15,
     "metadata": {},
     "output_type": "execute_result"
    }
   ],
   "source": [
    "A=[12,3,5,5,7,3,1,54,9,0,5,6,87,3,4,5,8]\n",
    "A.sort()\n",
    "KEY=int(input(\"Please enter to be search\"))\n",
    "Binary_search(A,KEY,0,len(A)-1)"
   ]
  },
  {
   "cell_type": "code",
   "execution_count": 19,
   "id": "fe8a2c29-97b7-44fa-be97-efe8981ca512",
   "metadata": {},
   "outputs": [],
   "source": [
    "def selection_sort(A):\n",
    "    for i in range(len(A)-1):\n",
    "        pos=i\n",
    "        for j in range(i+1,len(A)) :\n",
    "            if A[pos]>A[j]:\n",
    "                pos=j\n",
    "        temp=A[i]\n",
    "        A[i]=A[pos]\n",
    "        A[pos]=temp\n",
    "    return A\n",
    "                \n",
    "            \n",
    "        \n",
    "            \n",
    "            \n",
    "        \n",
    "        \n",
    "        \n",
    "        "
   ]
  },
  {
   "cell_type": "code",
   "execution_count": 21,
   "id": "a16afa31-1612-44cb-a374-7f4a2b1ed46f",
   "metadata": {},
   "outputs": [
    {
     "name": "stdout",
     "output_type": "stream",
     "text": [
      "[1, 1, 2, 3, 4, 4, 6, 6, 7, 7, 11]\n"
     ]
    }
   ],
   "source": [
    "A=[7,6,4,3,7,11,4,2,1,6,1]\n",
    "selection_sort(A)\n",
    "print(A)        "
   ]
  },
  {
   "cell_type": "code",
   "execution_count": 22,
   "id": "425afacc-556f-4572-8ac1-bd58ec42f111",
   "metadata": {},
   "outputs": [],
   "source": [
    "def insertion_sort(A):\n",
    "    n=len(A)\n",
    "    for i in range(1,n):\n",
    "        cvalue=A[i]\n",
    "        position=i\n",
    "        while position>0 and A[position-1]>cvalue:\n",
    "            A[position]=A[position-1]\n",
    "            position=position-1\n",
    "        A[position]=cvalue\n",
    "    return A\n",
    "    \n",
    "            \n",
    "            \n",
    "        "
   ]
  },
  {
   "cell_type": "code",
   "execution_count": 23,
   "id": "2a3b6389-682f-427a-b9b7-2a3bf7cbff7b",
   "metadata": {},
   "outputs": [
    {
     "name": "stdout",
     "output_type": "stream",
     "text": [
      "[1, 1, 2, 3, 4, 4, 6, 6, 7, 7, 11]\n"
     ]
    }
   ],
   "source": [
    "A=[7,6,4,3,7,11,4,2,1,6,1]\n",
    "insertion_sort(A)\n",
    "print(A)      "
   ]
  },
  {
   "cell_type": "code",
   "execution_count": 33,
   "id": "833f0a9c-c0fa-4308-af87-64ddf46a104a",
   "metadata": {},
   "outputs": [],
   "source": [
    "def bubble_Sort(A):\n",
    "    n=len(A)\n",
    "    for i in range(n-1,-1,-1):\n",
    "        for j in range(i):\n",
    "            if A[j]>A[j+1]:\n",
    "                temp=A[j]\n",
    "                A[j]=A[j+1]\n",
    "                A[j+1]=temp\n",
    "    return A\n",
    "        "
   ]
  },
  {
   "cell_type": "code",
   "execution_count": 34,
   "id": "7eff5b0e-68f1-4e86-ae26-ba1db9858208",
   "metadata": {},
   "outputs": [
    {
     "name": "stdout",
     "output_type": "stream",
     "text": [
      "[1, 1, 2, 3, 4, 4, 6, 6, 7, 7, 11]\n"
     ]
    }
   ],
   "source": [
    "A=[7,6,4,3,7,11,4,2,1,6,1]\n",
    "bubble_Sort(A)\n",
    "print(A)      "
   ]
  },
  {
   "cell_type": "code",
   "execution_count": 43,
   "id": "5129f64f-185f-44c8-8149-2d4891456e3c",
   "metadata": {},
   "outputs": [],
   "source": [
    "def shell_sort(A):\n",
    "    n=len(A)\n",
    "    gap=len(A)//2\n",
    "    while gap>0:\n",
    "        i=gap\n",
    "        while i<n:\n",
    "            temp=A[i]\n",
    "            j=i-gap\n",
    "            while j>=0 and A[j]>temp:\n",
    "                A[j+gap]=A[j]\n",
    "                j=j-gap\n",
    "            A[j+gap]=temp\n",
    "            i=i+1\n",
    "        gap=gap//2\n",
    "    return A\n",
    "\n",
    "# def shell_sort(A):\n",
    "#     n=len(A)\n",
    "#     gap=n//2\n",
    "#     while gap>0:\n",
    "#         i=gap\n",
    "#         while i<n:\n",
    "#             temp=A[i]\n",
    "#             j=i-gap\n",
    "#             while j>=0 and A[j]>temp:\n",
    "#                 A[j+gap]=A[j]\n",
    "#                 j=j-gap\n",
    "#             A[j+gap]= temp\n",
    "#             i=i+1\n",
    "            \n",
    "#         gap=gap//2\n",
    "#     return A         \n",
    "            \n",
    "        "
   ]
  },
  {
   "cell_type": "code",
   "execution_count": 44,
   "id": "ded0cc0e-f95d-4159-b602-427c0b46d969",
   "metadata": {},
   "outputs": [
    {
     "name": "stdout",
     "output_type": "stream",
     "text": [
      "[1, 1, 2, 3, 4, 4, 6, 6, 7, 7, 11]\n"
     ]
    }
   ],
   "source": [
    "A=[7,6,4,3,7,11,4,2,1,6,1]\n",
    "shell_sort(A)\n",
    "print(A)      "
   ]
  },
  {
   "cell_type": "code",
   "execution_count": null,
   "id": "4fddaa42-1206-40e8-9c29-9f6dec22a73b",
   "metadata": {},
   "outputs": [],
   "source": []
  }
 ],
 "metadata": {
  "kernelspec": {
   "display_name": "Python 3 (ipykernel)",
   "language": "python",
   "name": "python3"
  },
  "language_info": {
   "codemirror_mode": {
    "name": "ipython",
    "version": 3
   },
   "file_extension": ".py",
   "mimetype": "text/x-python",
   "name": "python",
   "nbconvert_exporter": "python",
   "pygments_lexer": "ipython3",
   "version": "3.9.6"
  }
 },
 "nbformat": 4,
 "nbformat_minor": 5
}
