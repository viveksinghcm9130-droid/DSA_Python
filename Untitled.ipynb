{
 "cells": [
  {
   "cell_type": "markdown",
   "id": "60eb3739-647b-425d-949d-f052e782ea00",
   "metadata": {},
   "source": [
    "# Binary tree with linked list"
   ]
  },
  {
   "cell_type": "code",
   "execution_count": 6,
   "id": "64e72859-63f6-4d08-9e2b-c15fe410e94d",
   "metadata": {},
   "outputs": [],
   "source": [
    "class _Node:\n",
    "    __slots__=\"_element\",\"_left\",\"_right\"\n",
    "    def __init__(self,element,left=None,right=None):\n",
    "        self._element=element\n",
    "        self._left=left\n",
    "        self._right=right\n",
    "class Binary_tree:\n",
    "    def __init__(self):\n",
    "        self._root=None\n",
    "    def make_tree(self,elememt,left,right):\n",
    "        self._root=_Node(elememt,left._root,right._root)\n",
    "    def inorder(self,troot):\n",
    "        if troot:\n",
    "            self.inorder(troot._left)\n",
    "            print(f\"{troot._element}, \",end=\"\")\n",
    "            self.inorder(troot._right)\n",
    "    def preorder(self,troot):\n",
    "        if troot:\n",
    "            print(f\"{troot._element}, \",end=\"\")\n",
    "            self.preorder(troot._left)\n",
    "            self.preorder(troot._right)\n",
    "    def postorder(self,troot):\n",
    "        if troot:\n",
    "            self.postorder(troot._left)\n",
    "            self.postorder(troot._right)\n",
    "            print(f\"{troot._element}, \",end=\"\")\n",
    "    \n",
    "        "
   ]
  },
  {
   "cell_type": "code",
   "execution_count": 10,
   "id": "388c7297-39e0-4132-85c9-a8e332ae1c85",
   "metadata": {},
   "outputs": [
    {
     "name": "stdout",
     "output_type": "stream",
     "text": [
      "20, 10, 30, \n",
      "10, 20, 30, "
     ]
    }
   ],
   "source": [
    "x=Binary_tree()\n",
    "y=Binary_tree()\n",
    "z=Binary_tree()\n",
    "a=Binary_tree()\n",
    "y.make_tree(20,a,a)\n",
    "z.make_tree(30,a,a)\n",
    "x.make_tree(10,y,z)\n",
    "x.inorder(x._root)\n",
    "print()\n",
    "x.preorder(x._root)"
   ]
  },
  {
   "cell_type": "code",
   "execution_count": null,
   "id": "a3d16666-2820-44d6-a713-33e3f9a11f3f",
   "metadata": {},
   "outputs": [],
   "source": []
  }
 ],
 "metadata": {
  "kernelspec": {
   "display_name": "Python 3 (ipykernel)",
   "language": "python",
   "name": "python3"
  },
  "language_info": {
   "codemirror_mode": {
    "name": "ipython",
    "version": 3
   },
   "file_extension": ".py",
   "mimetype": "text/x-python",
   "name": "python",
   "nbconvert_exporter": "python",
   "pygments_lexer": "ipython3",
   "version": "3.9.6"
  }
 },
 "nbformat": 4,
 "nbformat_minor": 5
}
