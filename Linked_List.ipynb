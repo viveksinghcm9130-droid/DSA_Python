{
 "cells": [
  {
   "cell_type": "markdown",
   "id": "3d4d10cd-91a6-441e-bcf0-bda5c8aaf0c7",
   "metadata": {},
   "source": [
    "# 1.Insertion and display of elements in linked list"
   ]
  },
  {
   "cell_type": "code",
   "execution_count": 15,
   "id": "0b39ce83-7b74-4da5-8c60-e5234ef7df88",
   "metadata": {},
   "outputs": [
    {
     "name": "stdout",
     "output_type": "stream",
     "text": [
      "10--->20--->0--->50--->\n"
     ]
    }
   ],
   "source": [
    "\n",
    "class _Node:\n",
    "    __slots__=\"_element\", \"_next\"\n",
    "    def __init__(self,element,next):\n",
    "        self._element=element\n",
    "        self._next=next\n",
    "class Linked_list:\n",
    "    def __init__(self):\n",
    "        self._head=None\n",
    "        self._tail=None\n",
    "        self._size=0\n",
    "    def __len__(self):\n",
    "        return self._size\n",
    "    def isempty(self):\n",
    "        return self._size==0\n",
    "    def add_last(self,A):\n",
    "        newest=_Node(A,None)\n",
    "        if self.isempty():\n",
    "            self._head=newest\n",
    "        else:\n",
    "            self._tail._next=newest\n",
    "        self._tail=newest\n",
    "        self._size+=1\n",
    "    def Display(self):\n",
    "        p=self._head\n",
    "        while p:\n",
    "            print(f\"{p._element}--->\",end=\"\")\n",
    "            p=p._next\n",
    "        print()\n",
    "L1=Linked_list()\n",
    "L1.add_last(10)\n",
    "L1.add_last(20)\n",
    "\n",
    "L1.add_last(0)\n",
    "\n",
    "L1.add_last(50)\n",
    "L1.Display()\n",
    "            \n",
    "            \n",
    "    \n",
    "        \n",
    "        \n",
    "        \n",
    "        \n",
    "    "
   ]
  },
  {
   "cell_type": "markdown",
   "id": "a4a0a8ba-79fc-4b0c-b2d4-94eaf045c6ed",
   "metadata": {},
   "source": [
    "# 2.Searching of an element in a linked list"
   ]
  },
  {
   "cell_type": "code",
   "execution_count": 16,
   "id": "503307a6-2aa2-47b7-93bb-92191f5820d4",
   "metadata": {},
   "outputs": [],
   "source": [
    "class _Node:\n",
    "\n",
    "    __slots__=\"_elements\",\"_node\"\n",
    "    def __init__(self,element,node):\n",
    "        self._elements=element\n",
    "        self._node=node\n",
    "class Linked_List:\n",
    "    def __init__(self):\n",
    "        self._head=None\n",
    "        self._tail=None\n",
    "        self._size=0\n",
    "    def __len__(self):\n",
    "        return self._size\n",
    "        \n",
    "    def isempty(self):\n",
    "        return self._size==0\n",
    "    def add_last(self,A):\n",
    "        newest=_Node(A,None)\n",
    "        if self.isempty():\n",
    "            self._head=newest\n",
    "        else:\n",
    "            self._tail._node=newest\n",
    "        self._tail=newest\n",
    "        self._size+=1\n",
    "    def match_ele(self,key):\n",
    "        node=0\n",
    "        p=self._head\n",
    "        while p:\n",
    "            if p._elements == key:\n",
    "                print(f\"Node :{node}\")\n",
    "                break\n",
    "            p=p._node\n",
    "            node+=1\n",
    "            return -1\n",
    "            \n"
   ]
  },
  {
   "cell_type": "code",
   "execution_count": 17,
   "id": "8df29ef4-19c3-4237-b2fb-b8a9b7b1fda0",
   "metadata": {},
   "outputs": [
    {
     "name": "stdout",
     "output_type": "stream",
     "text": [
      "Node :0\n"
     ]
    }
   ],
   "source": [
    "L1=Linked_List()\n",
    "L1.add_last(10)\n",
    "L1.add_last(20)\n",
    "\n",
    "L1.add_last(0)\n",
    "\n",
    "L1.add_last(50)\n",
    "L1.match_ele(10)"
   ]
  },
  {
   "cell_type": "markdown",
   "id": "62ac16cc-51f3-4d91-923a-9e2242c85a8c",
   "metadata": {},
   "source": [
    "# 3.Adding a node in particular position"
   ]
  },
  {
   "cell_type": "code",
   "execution_count": 18,
   "id": "3deb8bf4-57dc-475f-86a4-295a6b74ccdb",
   "metadata": {},
   "outputs": [],
   "source": [
    "class _Node:\n",
    "    __slots__=\"_element\",\"_next\"\n",
    "    def __init__(self,element,next):\n",
    "        self._element=element\n",
    "        self._next=next\n",
    "class Linked_list:\n",
    "    def __init__(self):\n",
    "        self._head=None\n",
    "        self._tail=None\n",
    "        self._size=0\n",
    "    def __len__(self):\n",
    "        return self._size\n",
    "    def isempty(self):\n",
    "        return self._size==0\n",
    "    def add_last(self,A):\n",
    "        newest=_Node(A,None)\n",
    "        if self.isempty():\n",
    "            self._head=newest\n",
    "        else:\n",
    "            self._tail._next=newest\n",
    "        \n",
    "        self._tail=newest\n",
    "        self._size+=1\n",
    "    def add_any(self,A,position):\n",
    "        newest=_Node(A,None)\n",
    "        p=self._head\n",
    "        i=1\n",
    "        while i<position-1:\n",
    "            p=p._next\n",
    "            i+=1\n",
    "        newest._next=p._next\n",
    "        p._next=newest\n",
    "        self._size += 1\n",
    "    def Display(self):\n",
    "        p=self._head\n",
    "        while p:\n",
    "            print(f\"{p._element}--->\",end=\"\")\n",
    "            p=p._next\n",
    "        print()\n",
    "\n",
    "        \n",
    "        \n",
    "        \n",
    "        \n",
    "            \n",
    "            \n",
    "        \n",
    "        \n",
    "    "
   ]
  },
  {
   "cell_type": "code",
   "execution_count": 13,
   "id": "b7e2f8c8-bd64-49a1-b782-4c011f9b04bf",
   "metadata": {},
   "outputs": [
    {
     "name": "stdout",
     "output_type": "stream",
     "text": [
      "10--->20--->20--->20--->0--->50--->\n"
     ]
    }
   ],
   "source": [
    "L1=Linked_list()\n",
    "L1.add_last(10)\n",
    "L1.add_last(20)\n",
    "L1.add_last(20)\n",
    "L1.add_last(20)\n",
    "L1.add_last(0)\n",
    "\n",
    "L1.add_last(50)\n",
    "L1.Display()"
   ]
  },
  {
   "cell_type": "markdown",
   "id": "86339bea-5881-4184-aacb-bb47e6c0f5f0",
   "metadata": {},
   "source": [
    "# 4. Removeing first element in linked_list"
   ]
  },
  {
   "cell_type": "code",
   "execution_count": 21,
   "id": "35baef5b-57c2-49b0-8ee1-f3d9c2bb8895",
   "metadata": {},
   "outputs": [],
   "source": [
    "class _Node:\n",
    "    __slots__=\"_element\",\"_next\"\n",
    "    def __init__(self,element,next):\n",
    "        self._element=element\n",
    "        self._next=next\n",
    "class Linked_list:\n",
    "    def __init__(self):\n",
    "        self._head=None\n",
    "        self._tail=None\n",
    "        self._size=0\n",
    "    def __len__(self):\n",
    "        return self._size\n",
    "    def isempty(self):\n",
    "        return self._size==0\n",
    "    def add_last(self,A):\n",
    "        newest=_Node(A,None)\n",
    "        if self.isempty():\n",
    "            self._head=newest\n",
    "        else:\n",
    "            self._tail._next=newest\n",
    "        \n",
    "        self._tail=newest\n",
    "        self._size+=1\n",
    "    def add_any(self,A,position):\n",
    "        newest=_Node(A,None)\n",
    "        p=self._head\n",
    "        i=1\n",
    "        while i<position-1:\n",
    "            p=p._next\n",
    "            i+=1\n",
    "        newest._next=p._next\n",
    "        p._next=newest\n",
    "        self._size += 1\n",
    "    def Display(self):\n",
    "        p=self._head\n",
    "        while p:\n",
    "            print(f\"{p._element}--->\",end=\"\")\n",
    "            p=p._next\n",
    "        print()\n",
    "    def Remove_first(self):\n",
    "        if self.isempty():\n",
    "            print(\"Linked_list is empty\")\n",
    "            return\n",
    "        ele_value=self._head._element\n",
    "        self._head=self._head._next\n",
    "        self._size-=1\n",
    "        if self.isempty():\n",
    "            p._tail=null\n",
    "        return ele_value\n",
    "            \n",
    "        \n",
    "        "
   ]
  },
  {
   "cell_type": "code",
   "execution_count": 23,
   "id": "cb6b1ea6-860e-49b0-b3a6-a2bc27107021",
   "metadata": {},
   "outputs": [
    {
     "name": "stdout",
     "output_type": "stream",
     "text": [
      "10--->20--->20--->20--->0--->50--->\n",
      "20--->20--->20--->0--->50--->\n",
      "20--->20--->0--->50--->\n"
     ]
    }
   ],
   "source": [
    "L1=Linked_list()\n",
    "L1.add_last(10)\n",
    "L1.add_last(20)\n",
    "L1.add_last(20)\n",
    "L1.add_last(20)\n",
    "L1.add_last(0)\n",
    "\n",
    "L1.add_last(50)\n",
    "L1.Display()\n",
    "L1.Remove_first()\n",
    "L1.Display()\n",
    "L1.Remove_first()\n",
    "L1.Display()"
   ]
  },
  {
   "cell_type": "markdown",
   "id": "13490e37-546e-49bd-9851-2d26476bbb15",
   "metadata": {},
   "source": [
    "# 5. Removing last node of linked_list"
   ]
  },
  {
   "cell_type": "code",
   "execution_count": 45,
   "id": "89123cfd-3b1b-4550-bceb-b3eef7151914",
   "metadata": {},
   "outputs": [],
   "source": [
    "class _Node:\n",
    "    __slots__=\"_element\",\"_next\"\n",
    "    def __init__(self,element,next):\n",
    "        self._element=element\n",
    "        self._next=next\n",
    "class Linked_list:\n",
    "    def __init__(self):\n",
    "        self._head=None\n",
    "        self._tail=None\n",
    "        self._size=0\n",
    "    def __len__(self):\n",
    "        return self._size\n",
    "    def isempty(self):\n",
    "        return self._size==0\n",
    "    def add_last(self,A):\n",
    "        newest=_Node(A,None)\n",
    "        if self.isempty():\n",
    "            self._head=newest\n",
    "        else:\n",
    "            self._tail._next=newest\n",
    "        \n",
    "        self._tail=newest\n",
    "        self._size+=1\n",
    "    def add_any(self,A,position):\n",
    "        newest=_Node(A,None)\n",
    "        p=self._head\n",
    "        i=1\n",
    "        while i<position-1:\n",
    "            p=p._next\n",
    "            i+=1\n",
    "        newest._next=p._next\n",
    "        p._next=newest\n",
    "        self._size += 1\n",
    "    def Display(self):\n",
    "        p=self._head\n",
    "        while p:\n",
    "            print(f\"{p._element}--->\",end=\"\")\n",
    "            p=p._next\n",
    "        print()\n",
    "    def Remove_first(self):\n",
    "        if self.isempty():\n",
    "            print(\"Linked_list is empty\")\n",
    "            return\n",
    "        ele_value=self._head._element\n",
    "        self._head=self._head._next\n",
    "        self._size-=1\n",
    "        if self.isempty():\n",
    "            p._tail=null\n",
    "        return ele_value\n",
    "            \n",
    "        \n",
    "    def Remove_last(self):\n",
    "        if self.isempty():\n",
    "            print(\"Linked_list is empty\")\n",
    "            return\n",
    "        p=self._head\n",
    "        i=1\n",
    "        while i<len(self)-1:\n",
    "            p=p._next\n",
    "            i+=1\n",
    "        self._tail=p\n",
    "        element=p._next._element\n",
    "        p._next=None\n",
    "        self._size-=1\n",
    "        return element\n",
    "        \n",
    "        \n"
   ]
  },
  {
   "cell_type": "code",
   "execution_count": 46,
   "id": "721bd892-7370-4b8a-8af8-25c9f08cddcc",
   "metadata": {},
   "outputs": [
    {
     "name": "stdout",
     "output_type": "stream",
     "text": [
      "10--->20--->20--->20--->0--->50--->\n",
      "20--->20--->20--->0--->50--->\n",
      "20--->20--->0--->50--->\n",
      "20--->20--->0--->\n"
     ]
    }
   ],
   "source": [
    "L1=Linked_list()\n",
    "L1.add_last(10)\n",
    "L1.add_last(20)\n",
    "L1.add_last(20)\n",
    "L1.add_last(20)\n",
    "L1.add_last(0)\n",
    "\n",
    "L1.add_last(50)\n",
    "L1.Display()\n",
    "L1.Remove_first()\n",
    "L1.Display()\n",
    "L1.Remove_first()\n",
    "L1.Display()\n",
    "L1.Remove_last()\n",
    "L1.Display()"
   ]
  },
  {
   "cell_type": "code",
   "execution_count": null,
   "id": "dc8a44ac-5227-4b0c-a5d0-f3b61f80bf7e",
   "metadata": {},
   "outputs": [],
   "source": []
  },
  {
   "cell_type": "code",
   "execution_count": null,
   "id": "aeb5dc47-b409-4727-bb1c-75ebc80a020a",
   "metadata": {},
   "outputs": [],
   "source": []
  }
 ],
 "metadata": {
  "kernelspec": {
   "display_name": "Python 3 (ipykernel)",
   "language": "python",
   "name": "python3"
  },
  "language_info": {
   "codemirror_mode": {
    "name": "ipython",
    "version": 3
   },
   "file_extension": ".py",
   "mimetype": "text/x-python",
   "name": "python",
   "nbconvert_exporter": "python",
   "pygments_lexer": "ipython3",
   "version": "3.9.6"
  }
 },
 "nbformat": 4,
 "nbformat_minor": 5
}
