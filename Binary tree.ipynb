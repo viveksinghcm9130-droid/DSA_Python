{
 "cells": [
  {
   "cell_type": "markdown",
   "id": "60eb3739-647b-425d-949d-f052e782ea00",
   "metadata": {},
   "source": [
    "# Binary tree with linked list"
   ]
  },
  {
   "cell_type": "code",
   "execution_count": 49,
   "id": "64e72859-63f6-4d08-9e2b-c15fe410e94d",
   "metadata": {},
   "outputs": [],
   "source": [
    "class _Node:\n",
    "    __slots__=\"_element\",\"_left\",\"_right\"\n",
    "    def __init__(self,element,left=None,right=None):\n",
    "        self._element=element\n",
    "        self._left=left\n",
    "        self._right=right\n",
    "class Binary_tree:\n",
    "    def __init__(self):\n",
    "        self._root=None\n",
    "    def make_tree(self,elememt,left,right):\n",
    "        self._root=_Node(elememt,left._root,right._root)\n",
    "    def inorder(self,troot):\n",
    "        if troot:\n",
    "            self.inorder(troot._left)\n",
    "            print(f\"{troot._element}, \",end=\"\")\n",
    "            self.inorder(troot._right)\n",
    "    def preorder(self,troot):\n",
    "        if troot:\n",
    "            print(f\"{troot._element}, \",end=\"\")\n",
    "            self.preorder(troot._left)\n",
    "            self.preorder(troot._right)\n",
    "    def postorder(self,troot):\n",
    "        if troot:\n",
    "            self.postorder(troot._left)\n",
    "            self.postorder(troot._right)\n",
    "            print(f\"{troot._element}, \",end=\"\")\n",
    "    \n",
    "        "
   ]
  },
  {
   "cell_type": "code",
   "execution_count": 50,
   "id": "27f7faca-a28c-4622-b751-88c2246990d0",
   "metadata": {},
   "outputs": [
    {
     "name": "stdout",
     "output_type": "stream",
     "text": [
      "20, 10, 30, \n",
      "10, 20, 30, "
     ]
    }
   ],
   "source": [
    "x=Binary_tree()\n",
    "y=Binary_tree()\n",
    "z=Binary_tree()\n",
    "a=Binary_tree()\n",
    "y.make_tree(20,a,a)\n",
    "z.make_tree(30,a,a)\n",
    "x.make_tree(10,y,z)\n",
    "x.inorder(x._root)\n",
    "print()\n",
    "x.preorder(x._root)"
   ]
  },
  {
   "cell_type": "code",
   "execution_count": 67,
   "id": "0899bb3e-5c7b-455d-9a8d-d5b89508dc66",
   "metadata": {},
   "outputs": [],
   "source": [
    "class _QNode:\n",
    "    __slots__=\"_element\",\"_next\"\n",
    "    def __init__(self,element,next):\n",
    "        self._element=element\n",
    "        self._next=next\n",
    "class Queue:\n",
    "    def __init__(self):\n",
    "        self._front=None\n",
    "        self._back=None\n",
    "        self._size=0\n",
    "    def __len__(self):\n",
    "        return self._size\n",
    "    def isempty(self):\n",
    "        return self._size==0\n",
    "    def queue(self,ele):\n",
    "        newest=_QNode(ele,None)\n",
    "        if self.isempty():\n",
    "            self._front=newest\n",
    "        else:\n",
    "            self._back._next=newest\n",
    "        self._back=newest\n",
    "        self._size+=1\n",
    "    def dequeue(self):\n",
    "        if self.isempty():\n",
    "            print(f\" Queue is empty\")\n",
    "            return\n",
    "        e=self._front._element\n",
    "        self._front=self._front._next\n",
    "        self._size-=1\n",
    "        if self.isempty():\n",
    "            self._back=None\n",
    "        return e\n",
    "        \n",
    "        \n",
    "            \n",
    "    def Display(self):\n",
    "        p=self._front\n",
    "        i=1\n",
    "        while i<= len(self):\n",
    "            print(f\"{p._element}----->\",end=\"\")\n",
    "            p=p._next\n",
    "            i+=1\n",
    "    # def Display(self):\n",
    "    #     i=1\n",
    "    #     p=self._head\n",
    "    #     while i<len(self):\n",
    "    #         print(p._element,end='-->')\n",
    "    #         p = p._next\n",
    "    #         i += 1\n",
    "    #     print()\n",
    "        \n",
    "    \n",
    "            \n",
    "        "
   ]
  },
  {
   "cell_type": "code",
   "execution_count": 68,
   "id": "93582496-ca6f-4e6b-9281-73712988d919",
   "metadata": {},
   "outputs": [
    {
     "name": "stdout",
     "output_type": "stream",
     "text": [
      "10----->20----->30----->40----->\n",
      "20----->30----->40----->"
     ]
    }
   ],
   "source": [
    "Q1=Queue()\n",
    "Q1.queue(10)\n",
    "Q1.queue(20)\n",
    "Q1.queue(30)\n",
    "Q1.queue(40)\n",
    "Q1.Display()\n",
    "Q1.dequeue()\n",
    "print()\n",
    "Q1.Display()\n"
   ]
  },
  {
   "cell_type": "markdown",
   "id": "1441e4d1-c2f7-45c3-955a-7413fe9bd9e0",
   "metadata": {},
   "source": [
    "# Level order traversal Binary Tree"
   ]
  },
  {
   "cell_type": "code",
   "execution_count": 69,
   "id": "a3d16666-2820-44d6-a713-33e3f9a11f3f",
   "metadata": {},
   "outputs": [],
   "source": [
    "class _Node:\n",
    "    __slots__=\"_element\",\"_left\",\"_right\"\n",
    "    def __init__(self,element,left=None,right=None):\n",
    "        self._element=element\n",
    "        self._left=left\n",
    "        self._right=right\n",
    "class Binary_tree:\n",
    "    def __init__(self):\n",
    "        self._root=None\n",
    "    def makenode(self,element,left,right):\n",
    "        self._root=_Node(element,left._root,right._root)\n",
    "    def inorder(self,troot):\n",
    "        if troot:\n",
    "            self.inorder(troot._left)\n",
    "            print(f\"{troot._element}, \",end=\"\")\n",
    "            self.inorder(troot._right)\n",
    "    def levelorder(self):\n",
    "        Q=Queue()\n",
    "        t=self._root\n",
    "        print(f\"{t._element}, \",end=\"\")\n",
    "        Q.queue(t)\n",
    "        while not Q.isempty():\n",
    "            t=Q.dequeue()\n",
    "            if t._left:\n",
    "                print(f\"{t._left._element} ,\",end=\"\")\n",
    "                Q.queue(t._left)\n",
    "            if t._right:\n",
    "                print(f\"{t._right._element}, \",end=\"\")\n",
    "                Q.queue(t._right)\n",
    "\n",
    "    \n",
    "        \n"
   ]
  },
  {
   "cell_type": "code",
   "execution_count": 71,
   "id": "23f80273-bf2e-4d54-a50a-a7405d890292",
   "metadata": {},
   "outputs": [
    {
     "name": "stdout",
     "output_type": "stream",
     "text": [
      "10, 30, 20, \n",
      "30, 10 ,20, "
     ]
    }
   ],
   "source": [
    "x=Binary_tree()\n",
    "y=Binary_tree()\n",
    "z=Binary_tree()\n",
    "a=Binary_tree()\n",
    "y.makenode(20,a,a)\n",
    "x.makenode(10,a,a)\n",
    "z.makenode(30,x,y)\n",
    "z.inorder(z._root)\n",
    "print()\n",
    "z.levelorder()\n"
   ]
  },
  {
   "cell_type": "code",
   "execution_count": null,
   "id": "05743687-177d-4c71-8064-19f399af6b99",
   "metadata": {},
   "outputs": [],
   "source": []
  },
  {
   "cell_type": "code",
   "execution_count": null,
   "id": "8001b76b-c5cf-4ee1-9ee3-76e91030edeb",
   "metadata": {},
   "outputs": [],
   "source": []
  },
  {
   "cell_type": "code",
   "execution_count": null,
   "id": "0ffc1010-fc62-4a6d-b9ed-2c361cd27824",
   "metadata": {},
   "outputs": [],
   "source": []
  }
 ],
 "metadata": {
  "kernelspec": {
   "display_name": "Python 3 (ipykernel)",
   "language": "python",
   "name": "python3"
  },
  "language_info": {
   "codemirror_mode": {
    "name": "ipython",
    "version": 3
   },
   "file_extension": ".py",
   "mimetype": "text/x-python",
   "name": "python",
   "nbconvert_exporter": "python",
   "pygments_lexer": "ipython3",
   "version": "3.9.6"
  }
 },
 "nbformat": 4,
 "nbformat_minor": 5
}
