{
 "cells": [
  {
   "cell_type": "markdown",
   "id": "46024375-e5e2-4140-8bf0-407b9e01a758",
   "metadata": {},
   "source": [
    "# Sorting_Algo"
   ]
  },
  {
   "cell_type": "markdown",
   "id": "9ebd0261-da53-4c72-8106-a54669812d92",
   "metadata": {},
   "source": [
    "# 1.Selection_sort"
   ]
  },
  {
   "cell_type": "code",
   "execution_count": 28,
   "id": "3ee30e06-ea4c-48fd-81fc-73ff880b6807",
   "metadata": {},
   "outputs": [],
   "source": [
    "def selection_sort(A):\n",
    "    n=len(A)\n",
    "    for i in range(n-1):\n",
    "        position=i\n",
    "        for j in range(i+1,n):\n",
    "            if A[position]>A[j]:\n",
    "                position=j\n",
    "        temp=A[i]\n",
    "        A[i]=A[position]\n",
    "        A[position]=temp\n",
    "    return A\n",
    "# Time complexity: O(n^2)\n",
    "# best case time complexity: O(n^2) (already sorted)\n",
    "\n",
    "# Comparison:O(n^2)\n",
    "# swap: O(n)\n",
    "        \n",
    "        \n",
    "                "
   ]
  },
  {
   "cell_type": "code",
   "execution_count": 29,
   "id": "c5a3afd4-edc3-4999-95e6-fd3f6746b80c",
   "metadata": {},
   "outputs": [
    {
     "name": "stdout",
     "output_type": "stream",
     "text": [
      "[0, 1, 3, 3, 3, 4, 5, 5, 5, 5, 6, 7, 8, 9, 12, 54, 87]\n"
     ]
    }
   ],
   "source": [
    "\n",
    "A=[12,3,5,5,7,3,1,54,9,0,5,6,87,3,4,5,8]\n",
    "print(selection_sort(A))"
   ]
  },
  {
   "cell_type": "markdown",
   "id": "d0c1e901-a70e-497e-8b66-def460352e10",
   "metadata": {},
   "source": [
    "# 2.Insertion_sort"
   ]
  },
  {
   "cell_type": "code",
   "execution_count": null,
   "id": "5d158a68-ded8-4bb5-9df2-a2ff01f953cc",
   "metadata": {},
   "outputs": [],
   "source": []
  },
  {
   "cell_type": "code",
   "execution_count": 30,
   "id": "4dfdc572-f703-4f27-88ba-0f5dbbb63280",
   "metadata": {},
   "outputs": [],
   "source": [
    "def Insertion_sort(A):\n",
    "    n=len(A)\n",
    "    for i in range(1,n):\n",
    "        cvalue=A[i]\n",
    "        position=i\n",
    "        while position>0 and cvalue<A[position-1]:\n",
    "            A[position]=A[position-1]\n",
    "            position-=1\n",
    "        A[position]=cvalue\n",
    "    return A\n",
    "        \n",
    "# Time complexity: O(n^2)\n",
    "# best case time complexity: O(n) (already sorted)\n",
    "\n",
    "# Comparison:O(n^2)\n",
    "# swap: O(n^2)\n",
    "        "
   ]
  },
  {
   "cell_type": "code",
   "execution_count": 27,
   "id": "426305c6-9670-48d0-8b64-42a97128ffb6",
   "metadata": {},
   "outputs": [],
   "source": [
    "def insertion_sort(A):\n",
    "    n=len(A)\n",
    "    for i in range(1,n):\n",
    "        cvalue=A[i]\n",
    "        position=i\n",
    "        while position>0 and A[position-1]>cvalue:\n",
    "            A[position]=A[position-1]\n",
    "            position-=1\n",
    "        A[position]=cvalue\n",
    "    return A\n",
    "            "
   ]
  },
  {
   "cell_type": "code",
   "execution_count": 28,
   "id": "fa85ad34-c50e-498a-870f-6903e635fd1e",
   "metadata": {},
   "outputs": [
    {
     "name": "stdout",
     "output_type": "stream",
     "text": [
      "[1, 3, 4, 6, 6, 7]\n"
     ]
    }
   ],
   "source": [
    "A=[7,6,4,3,6,1]\n",
    "print(insertion_sort(A))"
   ]
  },
  {
   "cell_type": "markdown",
   "id": "7ef62ac2-0633-474b-ae9c-27b14943bf98",
   "metadata": {},
   "source": [
    "# 3. Bubble_sort"
   ]
  },
  {
   "cell_type": "code",
   "execution_count": 31,
   "id": "c992ad3a-e98d-4a95-8a7e-7624ddd3e267",
   "metadata": {},
   "outputs": [],
   "source": [
    "def Bubble_sort(A):\n",
    "    n=len(A)\n",
    "    for i in range(n-1,-1,-1):\n",
    "        for j in range(i):\n",
    "            if A[j]>A[j+1]:\n",
    "                temp=A[j]\n",
    "                A[j]=A[j+1]\n",
    "                A[j+1]=temp\n",
    "    return A\n",
    "            \n",
    "# Time complexity: O(n^2)\n",
    "# best case time complexity: O(n) (stoped early)\n",
    "\n",
    "# Comparison:O(n^2)\n",
    "# swap: O(n^2)        "
   ]
  },
  {
   "cell_type": "code",
   "execution_count": 32,
   "id": "a1a584e2-2dff-4f1d-99af-64eada49618f",
   "metadata": {},
   "outputs": [
    {
     "name": "stdout",
     "output_type": "stream",
     "text": [
      "[1, 3, 4, 6, 6, 7]\n"
     ]
    }
   ],
   "source": [
    "A=[7,6,4,3,6,1]\n",
    "print(Bubble_sort(A))"
   ]
  },
  {
   "cell_type": "markdown",
   "id": "573049c0-7e31-4b31-8897-4b9caae9fba6",
   "metadata": {},
   "source": [
    "# 4.Shell_sort"
   ]
  },
  {
   "cell_type": "code",
   "execution_count": 50,
   "id": "7a7ee558-4a3f-4b6b-bd1e-9860ac429eae",
   "metadata": {},
   "outputs": [],
   "source": [
    "def shell_sort(A):\n",
    "    n=len(A)\n",
    "    gap=n//2\n",
    "    while gap>0:\n",
    "        i=gap\n",
    "        \n",
    "        while i<n:\n",
    "            temp=A[i]\n",
    "            j=i-gap\n",
    "            while j>=0 and A[j]>temp:\n",
    "                A[j+gap]=A[j]\n",
    "                j=j-gap\n",
    "            A[j+gap]=temp\n",
    "            i+=1\n",
    "        gap=gap//2\n",
    "    return A\n",
    "# Time complexity: O(nlogn)\n",
    "\n",
    "\n",
    "# Comparison:O(n)\n",
    "# partition: O(logn)"
   ]
  },
  {
   "cell_type": "code",
   "execution_count": 51,
   "id": "4f0b93da-0469-473d-b57a-a8def206fb52",
   "metadata": {},
   "outputs": [
    {
     "name": "stdout",
     "output_type": "stream",
     "text": [
      "[0, 1, 1, 2, 3, 3, 4, 6, 6, 7, 12, 333, 8281]\n"
     ]
    }
   ],
   "source": [
    "A=[7,6,4,3,6,1,12,3,1,2,333,8281,00]\n",
    "print(shell_sort(A))"
   ]
  },
  {
   "cell_type": "markdown",
   "id": "7ab66d47-3ff5-461e-97de-04855f253a5a",
   "metadata": {},
   "source": [
    "# 5. Merge _sort"
   ]
  },
  {
   "cell_type": "code",
   "execution_count": 26,
   "id": "589c0e7c-356e-41bf-8d3a-3fb37156d9d1",
   "metadata": {},
   "outputs": [],
   "source": [
    "def merge_sort(A,L,R):\n",
    "    if L<R:\n",
    "        mid=(L+R)//2\n",
    "        merge_sort(A,L,mid)\n",
    "        merge_sort(A,mid+1,R)\n",
    "        merge(A,L,R,mid)\n",
    "def merge(A,L,R,mid):\n",
    "    l=L\n",
    "    r=mid+1\n",
    "    k=L\n",
    "    B=[0]*(R+1)\n",
    "    while l<=mid and r<=R:\n",
    "        if A[l]<A[r]:\n",
    "            B[k]=A[l]\n",
    "            l+=1\n",
    "        else:\n",
    "            B[k]=A[r]\n",
    "            r+=1\n",
    "        k+=1\n",
    "    while l<=mid:\n",
    "        B[k]=A[l]\n",
    "        l+=1\n",
    "        k+=1\n",
    "    while r<=R:\n",
    "        B[k]=A[r]\n",
    "        r+=1\n",
    "        k+=1\n",
    "    for i in range(L,R+1):\n",
    "        A[i]=B[i]\n",
    "    return A\n",
    "# Time complexity: O(nlog2n)\n",
    "\n",
    "# Comparison:n\n",
    "# Partition: logn\n",
    "        "
   ]
  },
  {
   "cell_type": "code",
   "execution_count": 27,
   "id": "67bfc143-b367-4386-af27-f6bd147c8ad1",
   "metadata": {},
   "outputs": [
    {
     "name": "stdout",
     "output_type": "stream",
     "text": [
      "[1, 3, 4, 6, 6, 7]\n"
     ]
    }
   ],
   "source": [
    "A=[7,6,4,3,6,1]\n",
    "merge_sort(A,0,len(A)-1)\n",
    "print(A)"
   ]
  },
  {
   "cell_type": "markdown",
   "id": "902cc183-7fda-43ba-b986-1da5d97accf0",
   "metadata": {},
   "source": [
    "# 6.Quick Sort"
   ]
  },
  {
   "cell_type": "code",
   "execution_count": 25,
   "id": "9a677372-a58f-4aa5-a8c3-76f7f78fdc72",
   "metadata": {},
   "outputs": [],
   "source": [
    "def Quick_sort(A,low ,high):\n",
    "    if low<high:\n",
    "        pi=Partition(A,low,high)\n",
    "        Quick_sort(A,low,pi-1)\n",
    "        Quick_sort(A,pi+1,high)\n",
    "def Partition(A,low,high):\n",
    "    i=low+1\n",
    "    pivot=A[low]\n",
    "    j=high\n",
    "    while True:\n",
    "        while i<=j and A[i]<=pivot:\n",
    "            i+=1\n",
    "        while i<=j and A[j]>pivot  :\n",
    "            j-=1\n",
    "        if i<=j:\n",
    "            A[i],A[j]=A[j],A[i]\n",
    "        else:\n",
    "            break\n",
    "    \n",
    "    A[low],A[j]=A[j],A[low]\n",
    "    return j\n",
    "# Time complexity: O(nlog2n)\n",
    "# worst case time complexity: O(n2) (already sorted)\n",
    "\n",
    "# Comparison:n\n",
    "# Partition: logn\n",
    "\n"
   ]
  },
  {
   "cell_type": "code",
   "execution_count": 26,
   "id": "6a11aab7-5e96-4421-a62e-82692ff99fff",
   "metadata": {},
   "outputs": [
    {
     "name": "stdout",
     "output_type": "stream",
     "text": [
      "[1, 3, 4, 6, 6, 7]\n"
     ]
    }
   ],
   "source": [
    "A=[7,6,4,3,6,1]\n",
    "Quick_sort(A,0,len(A)-1)\n",
    "print(A)"
   ]
  },
  {
   "cell_type": "markdown",
   "id": "1ab75d0c-eba2-42d7-82fe-8af23f6e8d53",
   "metadata": {},
   "source": [
    "# 7.Count_sort"
   ]
  },
  {
   "cell_type": "code",
   "execution_count": 21,
   "id": "ffa523f4-0498-4da2-96d0-1723bdef7c95",
   "metadata": {},
   "outputs": [],
   "source": [
    "def Count_sort(A):\n",
    "    n=len(A)\n",
    "    max_length=max(A)\n",
    "    carry=[0]*(max_length+1)\n",
    "    for i in range(n):\n",
    "        carry[A[i]]=carry[A[i]]+1\n",
    "    i=0\n",
    "    j=0\n",
    "    while i<max_length+1:\n",
    "        if carry[i]>0:\n",
    "            A[j]=i\n",
    "            j+=1\n",
    "            carry[i]-=1\n",
    "            \n",
    "        else:\n",
    "            i+=1\n",
    "    return A\n",
    "# Time complexity: O(n)\n",
    "\n",
    "# unsorted array time complexity:O(n)\n",
    "# Partition: logn"
   ]
  },
  {
   "cell_type": "code",
   "execution_count": 20,
   "id": "3c5792c5-b873-4398-ba44-6a74962f2b62",
   "metadata": {},
   "outputs": [
    {
     "name": "stdout",
     "output_type": "stream",
     "text": [
      "[1, 1, 2, 3, 3, 4, 6, 6, 7, 12, 333, 8281]\n"
     ]
    }
   ],
   "source": [
    "A=[7,6,4,3,6,1,12,3,1,2,333,8281]\n",
    "print(Count_sort(A))"
   ]
  },
  {
   "cell_type": "markdown",
   "id": "6ebecea6-dc15-4cbf-89d8-370c3173d39e",
   "metadata": {},
   "source": [
    "# 8.Radix_sort"
   ]
  },
  {
   "cell_type": "code",
   "execution_count": null,
   "id": "a91d7344-7d0c-4a19-b615-12a539732678",
   "metadata": {},
   "outputs": [],
   "source": [
    "def Radix_sort(A):\n",
    "    n=len(A)\n",
    "    max_ele=max(A)\n",
    "    length_ele=len(str(max_ele))\n",
    "    l=[]\n",
    "    Bin=[l]*10\n",
    "    for i in range(length_ele):\n",
    "        for j in range(n):\n",
    "            radix=int((A[j]/pow(10,i))%10)\n",
    "            if len(Bin[radix])>0:\n",
    "                Bin[radix].append(A[j])\n",
    "            else:\n",
    "                Bin[radix]=[A[j]]\n",
    "        K=0\n",
    "        for x in range(10):\n",
    "            if len(Bin[x])>0:\n",
    "                for y in range(len(Bin[x])):\n",
    "                \n",
    "                    A[K]=Bin[x].pop(0)\n",
    "                    K+=1\n",
    "    return A\n",
    "\n",
    "\n",
    "# Time complexity: O(n)\n",
    "\n",
    "# Space complexity: O(10)=O(1)               "
   ]
  },
  {
   "cell_type": "code",
   "execution_count": null,
   "id": "1812fccd-17b0-427a-bcf0-8e5b4c806d7d",
   "metadata": {},
   "outputs": [],
   "source": [
    "A=[7,6,4,3,6,1,12,3,1,2,333,8281]\n",
    "print(Radix_sort(A))"
   ]
  },
  {
   "cell_type": "code",
   "execution_count": null,
   "id": "5f1dd511-6679-4bc2-9900-eca85dd2b7e8",
   "metadata": {},
   "outputs": [],
   "source": [
    "A=[7,6,4,3,6,1,12,3,1,2,333,8281]\n",
    "print(A[::-1])"
   ]
  },
  {
   "cell_type": "code",
   "execution_count": 2,
   "id": "0853c357-1e72-453c-bcdb-21b0e1821240",
   "metadata": {},
   "outputs": [
    {
     "name": "stdout",
     "output_type": "stream",
     "text": [
      "[0, 1, 3, 3, 3, 4, 5, 5, 5, 5, 6, 7, 8, 9, 12, 54, 87]\n"
     ]
    }
   ],
   "source": [
    "def selection_sort(A):\n",
    "    n=len(A)\n",
    "    for i in range(n-1):\n",
    "        position=i\n",
    "        for j in range (i+1,n):\n",
    "            if A[position]>A[j]:\n",
    "                position=j\n",
    "        temp=A[position]\n",
    "        A[position]=A[i]\n",
    "        A[i]=temp\n",
    "    return A\n",
    "\n",
    "\n",
    "A=[12,3,5,5,7,3,1,54,9,0,5,6,87,3,4,5,8]\n",
    "print(selection_sort(A))\n",
    "    "
   ]
  },
  {
   "cell_type": "code",
   "execution_count": 15,
   "id": "74c939d8-1504-4649-aea9-cb3c17504954",
   "metadata": {},
   "outputs": [
    {
     "name": "stdout",
     "output_type": "stream",
     "text": [
      "[0, 1, 3, 3, 3, 4, 5, 5, 5, 5, 6, 7, 8, 9, 12, 54, 87]\n"
     ]
    }
   ],
   "source": [
    "def Insertion_sort(A):\n",
    "    n=len(A)\n",
    "    for i in range(1,n):\n",
    "        cvalue=A[i]\n",
    "        position=i\n",
    "        while position>0 and  A[position -1]> cvalue :\n",
    "                A[position]=A[position-1]\n",
    "                position-=1\n",
    "        A[position]=cvalue\n",
    "\n",
    "    \n",
    "    return A\n",
    "A=[12,3,5,5,7,3,1,54,9,0,5,6,87,3,4,5,8]\n",
    "print(Insertion_sort(A))\n",
    "                "
   ]
  },
  {
   "cell_type": "code",
   "execution_count": 20,
   "id": "8afbd260-bd52-4a67-95e3-c939b92f4b40",
   "metadata": {},
   "outputs": [],
   "source": [
    "def bubble_sort(A):\n",
    "    n=len(A)\n",
    "    for i in range(n-1,-1,-1):\n",
    "        for j in range(i):\n",
    "            if A[j]>A[j+1]:\n",
    "                temp=A[j+1]\n",
    "                A[j+1]=A[j]\n",
    "                A[j]=temp\n",
    "    return A\n",
    "        "
   ]
  },
  {
   "cell_type": "code",
   "execution_count": 21,
   "id": "5aa22808-1d49-405f-a916-9a7552480b34",
   "metadata": {},
   "outputs": [
    {
     "name": "stdout",
     "output_type": "stream",
     "text": [
      "[0, 1, 3, 3, 3, 4, 5, 5, 5, 5, 6, 7, 8, 9, 12, 54, 87]\n"
     ]
    }
   ],
   "source": [
    "A=[12,3,5,5,7,3,1,54,9,0,5,6,87,3,4,5,8]\n",
    "print(bubble_sort(A))"
   ]
  },
  {
   "cell_type": "code",
   "execution_count": 13,
   "id": "78b7b184-1258-40f0-838c-f08fa8e80b1d",
   "metadata": {},
   "outputs": [],
   "source": [
    "def shell_sort(A):\n",
    "    n=len(A)\n",
    "    gap=n//2\n",
    "    while gap>0:\n",
    "        i=gap\n",
    "        while i<n:\n",
    "            cvalue=A[i]\n",
    "            j=i-gap\n",
    "            while j>=0 and A[j]>cvalue:\n",
    "                A[j+gap]=A[j]\n",
    "                j=j-gap\n",
    "            A[j+gap]=cvalue\n",
    "            i+=1\n",
    "        gap=gap//2\n",
    "    return A\n",
    "# def shell_sort(A):\n",
    "#     n=len(A)\n",
    "#     gap=n//2\n",
    "#     while gap>0:\n",
    "#         i=gap\n",
    "        \n",
    "#         while i<n:\n",
    "#             temp=A[i]\n",
    "#             j=i-gap\n",
    "#             while j>=0 and A[j]>temp:\n",
    "#                 A[j+gap]=A[j]\n",
    "#                 j=j-gap\n",
    "#             A[j+gap]=temp\n",
    "#             i+=1\n",
    "#         gap=gap//2\n",
    "#     return A\n",
    "        \n",
    "                \n",
    "                \n",
    "            "
   ]
  },
  {
   "cell_type": "code",
   "execution_count": 14,
   "id": "b68995ad-a636-4917-b07c-010b51bc64b9",
   "metadata": {},
   "outputs": [
    {
     "name": "stdout",
     "output_type": "stream",
     "text": [
      "[0, 1, 1, 2, 3, 3, 4, 6, 6, 7, 12, 333, 8281]\n"
     ]
    }
   ],
   "source": [
    "A=[7,6,4,3,6,1,12,3,1,2,333,8281,00]\n",
    "print(shell_sort(A))"
   ]
  },
  {
   "cell_type": "code",
   "execution_count": null,
   "id": "75a7150b-737b-47fd-85ae-cc2df0a6813e",
   "metadata": {},
   "outputs": [],
   "source": []
  }
 ],
 "metadata": {
  "kernelspec": {
   "display_name": "Python 3 (ipykernel)",
   "language": "python",
   "name": "python3"
  },
  "language_info": {
   "codemirror_mode": {
    "name": "ipython",
    "version": 3
   },
   "file_extension": ".py",
   "mimetype": "text/x-python",
   "name": "python",
   "nbconvert_exporter": "python",
   "pygments_lexer": "ipython3",
   "version": "3.9.6"
  }
 },
 "nbformat": 4,
 "nbformat_minor": 5
}
